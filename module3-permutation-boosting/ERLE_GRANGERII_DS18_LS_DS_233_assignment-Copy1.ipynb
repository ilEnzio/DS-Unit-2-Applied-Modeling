{
 "cells": [
  {
   "cell_type": "markdown",
   "metadata": {
    "colab_type": "text",
    "id": "nCc3XZEyG3XV"
   },
   "source": [
    "Lambda School Data Science\n",
    "\n",
    "*Unit 2, Sprint 3, Module 3*\n",
    "\n",
    "---\n",
    "\n",
    "\n",
    "# Permutation & Boosting\n",
    "\n",
    "You will use your portfolio project dataset for all assignments this sprint.\n",
    "\n",
    "## Assignment\n",
    "\n",
    "Complete these tasks for your project, and document your work.\n",
    "\n",
    "- [ ] If you haven't completed assignment #1, please do so first.\n",
    "- [ ] Continue to clean and explore your data. Make exploratory visualizations.\n",
    "- [ ] Fit a model. Does it beat your baseline? \n",
    "- [ ] Try xgboost.\n",
    "- [ ] Get your model's permutation importances.\n",
    "\n",
    "You should try to complete an initial model today, because the rest of the week, we're making model interpretation visualizations.\n",
    "\n",
    "But, if you aren't ready to try xgboost and permutation importances with your dataset today, that's okay. You can practice with another dataset instead. You may choose any dataset you've worked with previously.\n",
    "\n",
    "The data subdirectory includes the Titanic dataset for classification and the NYC apartments dataset for regression. You may want to choose one of these datasets, because example solutions will be available for each.\n",
    "\n",
    "\n",
    "## Reading\n",
    "\n",
    "Top recommendations in _**bold italic:**_\n",
    "\n",
    "#### Permutation Importances\n",
    "- _**[Kaggle / Dan Becker: Machine Learning Explainability](https://www.kaggle.com/dansbecker/permutation-importance)**_\n",
    "- [Christoph Molnar: Interpretable Machine Learning](https://christophm.github.io/interpretable-ml-book/feature-importance.html)\n",
    "\n",
    "#### (Default) Feature Importances\n",
    "  - [Ando Saabas: Selecting good features, Part 3, Random Forests](https://blog.datadive.net/selecting-good-features-part-iii-random-forests/)\n",
    "  - [Terence Parr, et al: Beware Default Random Forest Importances](https://explained.ai/rf-importance/index.html)\n",
    "\n",
    "#### Gradient Boosting\n",
    "  - [A Gentle Introduction to the Gradient Boosting Algorithm for Machine Learning](https://machinelearningmastery.com/gentle-introduction-gradient-boosting-algorithm-machine-learning/)\n",
    "  - [An Introduction to Statistical Learning](http://www-bcf.usc.edu/~gareth/ISL/ISLR%20Seventh%20Printing.pdf), Chapter 8\n",
    "  - _**[Gradient Boosting Explained](https://www.gormanalysis.com/blog/gradient-boosting-explained/)**_ — Ben Gorman\n",
    "  - [Gradient Boosting Explained](http://arogozhnikov.github.io/2016/06/24/gradient_boosting_explained.html) — Alex Rogozhnikov\n",
    "  - [How to explain gradient boosting](https://explained.ai/gradient-boosting/) — Terence Parr & Jeremy Howard"
   ]
  },
  {
   "cell_type": "code",
   "execution_count": null,
   "metadata": {},
   "outputs": [],
   "source": [
    "!pip install category_encoders==2.*\n",
    "!pip install pandas-profiling==2.*"
   ]
  },
  {
   "cell_type": "code",
   "execution_count": null,
   "metadata": {},
   "outputs": [],
   "source": [
    "# imports\n",
    "import sys\n",
    "!{sys.executable} -m pip install pandas\n",
    "!{sys.executable} -m pip install matplotlib\n",
    "!{sys.executable} -m pip install numpy\n",
    "!{sys.executable} -m pip install plotly\n",
    "\n",
    "!{sys.executable} -m pip install collections\n",
    "\n",
    "from collections import namedtuple\n",
    "\n",
    "import pandas as pd\n",
    "import matplotlib.pyplot as plt\n",
    "import numpy as np\n",
    "import plotly.express as px"
   ]
  },
  {
   "cell_type": "code",
   "execution_count": 4,
   "metadata": {},
   "outputs": [
    {
     "data": {
      "text/html": [
       "<div>\n",
       "<style scoped>\n",
       "    .dataframe tbody tr th:only-of-type {\n",
       "        vertical-align: middle;\n",
       "    }\n",
       "\n",
       "    .dataframe tbody tr th {\n",
       "        vertical-align: top;\n",
       "    }\n",
       "\n",
       "    .dataframe thead th {\n",
       "        text-align: right;\n",
       "    }\n",
       "</style>\n",
       "<table border=\"1\" class=\"dataframe\">\n",
       "  <thead>\n",
       "    <tr style=\"text-align: right;\">\n",
       "      <th></th>\n",
       "      <th>Date</th>\n",
       "      <th>Average Viewers</th>\n",
       "      <th>Chat Messages</th>\n",
       "      <th>Chatters</th>\n",
       "      <th>Clip Views</th>\n",
       "      <th>Clips Created</th>\n",
       "      <th>Follows</th>\n",
       "      <th>Hosts and Raids Viewers (%)</th>\n",
       "      <th>Live Views</th>\n",
       "      <th>Max Viewers</th>\n",
       "      <th>...</th>\n",
       "      <th>day_of_week_5</th>\n",
       "      <th>day_of_week_6</th>\n",
       "      <th>day_of_week_7</th>\n",
       "      <th>Total_Sub_Revenue</th>\n",
       "      <th>donations</th>\n",
       "      <th>Total_Earnings</th>\n",
       "      <th>streak</th>\n",
       "      <th>activity</th>\n",
       "      <th>avg_message_per_viewer</th>\n",
       "      <th>user_chatting_percent</th>\n",
       "    </tr>\n",
       "  </thead>\n",
       "  <tbody>\n",
       "    <tr>\n",
       "      <th>0</th>\n",
       "      <td>2017-06-13</td>\n",
       "      <td>2.98</td>\n",
       "      <td>114</td>\n",
       "      <td>6</td>\n",
       "      <td>0</td>\n",
       "      <td>0</td>\n",
       "      <td>1</td>\n",
       "      <td>0.0</td>\n",
       "      <td>11</td>\n",
       "      <td>5</td>\n",
       "      <td>...</td>\n",
       "      <td>0</td>\n",
       "      <td>1</td>\n",
       "      <td>0</td>\n",
       "      <td>0.0</td>\n",
       "      <td>0.0</td>\n",
       "      <td>0.0</td>\n",
       "      <td>1</td>\n",
       "      <td>0.033333</td>\n",
       "      <td>12.666666666666666</td>\n",
       "      <td>66.66666666666666</td>\n",
       "    </tr>\n",
       "    <tr>\n",
       "      <th>1</th>\n",
       "      <td>2017-06-14</td>\n",
       "      <td>3.47</td>\n",
       "      <td>260</td>\n",
       "      <td>9</td>\n",
       "      <td>0</td>\n",
       "      <td>0</td>\n",
       "      <td>2</td>\n",
       "      <td>0.0</td>\n",
       "      <td>35</td>\n",
       "      <td>8</td>\n",
       "      <td>...</td>\n",
       "      <td>0</td>\n",
       "      <td>0</td>\n",
       "      <td>1</td>\n",
       "      <td>0.0</td>\n",
       "      <td>0.0</td>\n",
       "      <td>0.0</td>\n",
       "      <td>2</td>\n",
       "      <td>0.066667</td>\n",
       "      <td>10.0</td>\n",
       "      <td>34.61538461538461</td>\n",
       "    </tr>\n",
       "    <tr>\n",
       "      <th>2</th>\n",
       "      <td>2017-06-15</td>\n",
       "      <td>4.45</td>\n",
       "      <td>40</td>\n",
       "      <td>3</td>\n",
       "      <td>0</td>\n",
       "      <td>0</td>\n",
       "      <td>2</td>\n",
       "      <td>0.0</td>\n",
       "      <td>1</td>\n",
       "      <td>8</td>\n",
       "      <td>...</td>\n",
       "      <td>0</td>\n",
       "      <td>0</td>\n",
       "      <td>0</td>\n",
       "      <td>0.0</td>\n",
       "      <td>0.0</td>\n",
       "      <td>0.0</td>\n",
       "      <td>3</td>\n",
       "      <td>0.100000</td>\n",
       "      <td>40.0</td>\n",
       "      <td>300.0</td>\n",
       "    </tr>\n",
       "    <tr>\n",
       "      <th>3</th>\n",
       "      <td>2017-06-16</td>\n",
       "      <td>3.73</td>\n",
       "      <td>38</td>\n",
       "      <td>5</td>\n",
       "      <td>0</td>\n",
       "      <td>0</td>\n",
       "      <td>2</td>\n",
       "      <td>0.0</td>\n",
       "      <td>17</td>\n",
       "      <td>6</td>\n",
       "      <td>...</td>\n",
       "      <td>0</td>\n",
       "      <td>0</td>\n",
       "      <td>0</td>\n",
       "      <td>0.0</td>\n",
       "      <td>0.0</td>\n",
       "      <td>0.0</td>\n",
       "      <td>4</td>\n",
       "      <td>0.133333</td>\n",
       "      <td>2.923076923076923</td>\n",
       "      <td>38.46153846153847</td>\n",
       "    </tr>\n",
       "    <tr>\n",
       "      <th>4</th>\n",
       "      <td>2017-06-17</td>\n",
       "      <td>3.99</td>\n",
       "      <td>100</td>\n",
       "      <td>8</td>\n",
       "      <td>0</td>\n",
       "      <td>0</td>\n",
       "      <td>0</td>\n",
       "      <td>0.0</td>\n",
       "      <td>16</td>\n",
       "      <td>7</td>\n",
       "      <td>...</td>\n",
       "      <td>0</td>\n",
       "      <td>0</td>\n",
       "      <td>0</td>\n",
       "      <td>0.0</td>\n",
       "      <td>0.0</td>\n",
       "      <td>0.0</td>\n",
       "      <td>5</td>\n",
       "      <td>0.166667</td>\n",
       "      <td>8.333333333333334</td>\n",
       "      <td>66.66666666666666</td>\n",
       "    </tr>\n",
       "  </tbody>\n",
       "</table>\n",
       "<p>5 rows × 43 columns</p>\n",
       "</div>"
      ],
      "text/plain": [
       "        Date  Average Viewers  Chat Messages  Chatters  Clip Views  \\\n",
       "0 2017-06-13             2.98            114         6           0   \n",
       "1 2017-06-14             3.47            260         9           0   \n",
       "2 2017-06-15             4.45             40         3           0   \n",
       "3 2017-06-16             3.73             38         5           0   \n",
       "4 2017-06-17             3.99            100         8           0   \n",
       "\n",
       "   Clips Created  Follows  Hosts and Raids Viewers (%)  Live Views  \\\n",
       "0              0        1                          0.0          11   \n",
       "1              0        2                          0.0          35   \n",
       "2              0        2                          0.0           1   \n",
       "3              0        2                          0.0          17   \n",
       "4              0        0                          0.0          16   \n",
       "\n",
       "   Max Viewers  ...  day_of_week_5  day_of_week_6  day_of_week_7  \\\n",
       "0            5  ...              0              1              0   \n",
       "1            8  ...              0              0              1   \n",
       "2            8  ...              0              0              0   \n",
       "3            6  ...              0              0              0   \n",
       "4            7  ...              0              0              0   \n",
       "\n",
       "   Total_Sub_Revenue  donations  Total_Earnings  streak  activity  \\\n",
       "0                0.0        0.0             0.0       1  0.033333   \n",
       "1                0.0        0.0             0.0       2  0.066667   \n",
       "2                0.0        0.0             0.0       3  0.100000   \n",
       "3                0.0        0.0             0.0       4  0.133333   \n",
       "4                0.0        0.0             0.0       5  0.166667   \n",
       "\n",
       "   avg_message_per_viewer  user_chatting_percent  \n",
       "0      12.666666666666666      66.66666666666666  \n",
       "1                    10.0      34.61538461538461  \n",
       "2                    40.0                  300.0  \n",
       "3       2.923076923076923      38.46153846153847  \n",
       "4       8.333333333333334      66.66666666666666  \n",
       "\n",
       "[5 rows x 43 columns]"
      ]
     },
     "execution_count": 4,
     "metadata": {},
     "output_type": "execute_result"
    }
   ],
   "source": [
    "twitch_df = pd.read_csv(\"twitch_clean_data.csv\", parse_dates=[\"Date\"])\n",
    "twitch_df.head()"
   ]
  },
  {
   "cell_type": "code",
   "execution_count": 5,
   "metadata": {},
   "outputs": [
    {
     "data": {
      "text/plain": [
       "Index(['Date', 'Average Viewers', 'Chat Messages', 'Chatters', 'Clip Views',\n",
       "       'Clips Created', 'Follows', 'Hosts and Raids Viewers (%)', 'Live Views',\n",
       "       'Max Viewers', 'Minutes Watched', 'Minutes Streamed', 'Unique Viewers',\n",
       "       'Sub Revenue', 'Prime Revenue', 'Gifted Subs Revenue', 'Bits Revenue',\n",
       "       'Ad Revenue', 'Extensions Revenue', 'Bounties Revenue', 'Prime Subs',\n",
       "       'Total Paid Subs', 'Tier 1 subs', 'Tier 2 subs', 'Tier 3 subs',\n",
       "       'Total Gifted Subs', 'Gifted Tier 1 subs', 'Gifted Tier 2 subs',\n",
       "       'Gifted Tier 3 subs', 'day_of_week_1', 'day_of_week_2', 'day_of_week_3',\n",
       "       'day_of_week_4', 'day_of_week_5', 'day_of_week_6', 'day_of_week_7',\n",
       "       'Total_Sub_Revenue', 'donations', 'Total_Earnings', 'streak',\n",
       "       'activity', 'avg_message_per_viewer', 'user_chatting_percent'],\n",
       "      dtype='object')"
      ]
     },
     "execution_count": 5,
     "metadata": {},
     "output_type": "execute_result"
    }
   ],
   "source": [
    "twitch_df.columns\n"
   ]
  },
  {
   "cell_type": "code",
   "execution_count": 6,
   "metadata": {},
   "outputs": [
    {
     "data": {
      "text/plain": [
       "Date                           0\n",
       "Average Viewers                0\n",
       "Chat Messages                  0\n",
       "Chatters                       0\n",
       "Clip Views                     0\n",
       "Clips Created                  0\n",
       "Follows                        0\n",
       "Hosts and Raids Viewers (%)    0\n",
       "Live Views                     0\n",
       "Max Viewers                    0\n",
       "Minutes Watched                0\n",
       "Minutes Streamed               0\n",
       "Unique Viewers                 0\n",
       "Sub Revenue                    0\n",
       "Prime Revenue                  0\n",
       "Gifted Subs Revenue            0\n",
       "Bits Revenue                   0\n",
       "Ad Revenue                     0\n",
       "Extensions Revenue             0\n",
       "Bounties Revenue               0\n",
       "Prime Subs                     0\n",
       "Total Paid Subs                0\n",
       "Tier 1 subs                    0\n",
       "Tier 2 subs                    0\n",
       "Tier 3 subs                    0\n",
       "Total Gifted Subs              0\n",
       "Gifted Tier 1 subs             0\n",
       "Gifted Tier 2 subs             0\n",
       "Gifted Tier 3 subs             0\n",
       "day_of_week_1                  0\n",
       "day_of_week_2                  0\n",
       "day_of_week_3                  0\n",
       "day_of_week_4                  0\n",
       "day_of_week_5                  0\n",
       "day_of_week_6                  0\n",
       "day_of_week_7                  0\n",
       "Total_Sub_Revenue              0\n",
       "donations                      0\n",
       "Total_Earnings                 0\n",
       "streak                         0\n",
       "activity                       0\n",
       "avg_message_per_viewer         0\n",
       "user_chatting_percent          0\n",
       "dtype: int64"
      ]
     },
     "execution_count": 6,
     "metadata": {},
     "output_type": "execute_result"
    }
   ],
   "source": [
    "twitch_df.isnull().sum()"
   ]
  },
  {
   "cell_type": "code",
   "execution_count": null,
   "metadata": {},
   "outputs": [],
   "source": []
  },
  {
   "cell_type": "code",
   "execution_count": null,
   "metadata": {},
   "outputs": [],
   "source": []
  },
  {
   "cell_type": "code",
   "execution_count": 7,
   "metadata": {},
   "outputs": [
    {
     "data": {
      "image/png": "[encoded data removed]",
      "text/plain": [
       "<Figure size 432x288 with 1 Axes>"
      ]
     },
     "metadata": {
      "needs_background": "light"
     },
     "output_type": "display_data"
    }
   ],
   "source": [
    "twitch_df['Total_Earnings'].hist(bins=50);"
   ]
  },
  {
   "cell_type": "code",
   "execution_count": 8,
   "metadata": {},
   "outputs": [
    {
     "data": {
      "text/plain": [
       "19.597481449525453"
      ]
     },
     "execution_count": 8,
     "metadata": {},
     "output_type": "execute_result"
    }
   ],
   "source": [
    "# lets get an average sales price\n",
    "guess_price = twitch_df['Total_Earnings'].mean()\n",
    "guess_price"
   ]
  },
  {
   "cell_type": "code",
   "execution_count": 9,
   "metadata": {},
   "outputs": [],
   "source": [
    "# # make function that will do it for us\n",
    "# def get_naive_baseline(target_feature):\n",
    "#   guess = target_feature.mean()\n",
    "#   errors = guess - target_feature\n",
    "#   mean_absolute_error = errors.abs().mean()\n",
    "\n",
    "#   naive_baseline = namedtuple(\"baseline_info\", [\"guess\", \"errors\", \"MAE\"])\n",
    "\n",
    "#   return naive_baseline(guess, errors, mean_absolute_error)"
   ]
  },
  {
   "cell_type": "code",
   "execution_count": 10,
   "metadata": {},
   "outputs": [],
   "source": [
    "nbaseline = get_naive_baseline(twitch_df['Total_Earnings'])"
   ]
  },
  {
   "cell_type": "code",
   "execution_count": 11,
   "metadata": {},
   "outputs": [],
   "source": [
    "y_target = twitch_df['Total_Earnings']"
   ]
  },
  {
   "cell_type": "code",
   "execution_count": 31,
   "metadata": {},
   "outputs": [
    {
     "data": {
      "text/plain": [
       "0"
      ]
     },
     "execution_count": 31,
     "metadata": {},
     "output_type": "execute_result"
    }
   ],
   "source": [
    "twitch_df[\"avg_message_per_viewer\"].isnull().sum()"
   ]
  },
  {
   "cell_type": "code",
   "execution_count": null,
   "metadata": {},
   "outputs": [],
   "source": []
  },
  {
   "cell_type": "code",
   "execution_count": null,
   "metadata": {},
   "outputs": [],
   "source": []
  },
  {
   "cell_type": "code",
   "execution_count": null,
   "metadata": {},
   "outputs": [],
   "source": []
  },
  {
   "cell_type": "code",
   "execution_count": null,
   "metadata": {},
   "outputs": [],
   "source": []
  },
  {
   "cell_type": "code",
   "execution_count": 12,
   "metadata": {},
   "outputs": [
    {
     "name": "stdout",
     "output_type": "stream",
     "text": [
      "19.597481449525453\n",
      "24.54002158371927\n",
      "(1159,)\n"
     ]
    }
   ],
   "source": [
    "print(nbaseline.guess)\n",
    "print(nbaseline.MAE)\n",
    "print(nbaseline.errors.shape)"
   ]
  },
  {
   "cell_type": "code",
   "execution_count": 44,
   "metadata": {},
   "outputs": [],
   "source": [
    "# make function that will do it for us\n",
    "def get_naive_baseline(target_feature):\n",
    "  guess = target_feature.mean()\n",
    "  errors = guess - target_feature\n",
    "  mean_absolute_error = errors.abs().mean()\n",
    "\n",
    "#   y_pred = [target_feature.mean()] * len(target_feature.iloc[:,0])\n",
    "  y_pred = target_feature *target_feature.mean()\n",
    "  r2 = r2_score(target_feature, y_pred)\n",
    "\n",
    "  naive_baseline = namedtuple(\"baseline_info\", [\"guess\", \"errors\", \"MAE\", \"R2\"])\n",
    "\n",
    "  return naive_baseline(guess, errors, mean_absolute_error, r2)"
   ]
  },
  {
   "cell_type": "code",
   "execution_count": 45,
   "metadata": {},
   "outputs": [],
   "source": [
    "nbaseline = get_naive_baseline(twitch_df['Total_Earnings'])"
   ]
  },
  {
   "cell_type": "code",
   "execution_count": 46,
   "metadata": {},
   "outputs": [
    {
     "data": {
      "text/plain": [
       "baseline_info(guess=19.597481449525453, errors=0       19.597481\n",
       "1       19.597481\n",
       "2       19.597481\n",
       "3       19.597481\n",
       "4       19.597481\n",
       "          ...    \n",
       "1154    17.142481\n",
       "1155    19.597481\n",
       "1156    17.196981\n",
       "1157    13.936981\n",
       "1158    16.137481\n",
       "Name: Total_Earnings, Length: 1159, dtype: float64, MAE=24.54002158371927, R2=-389.7386405780524)"
      ]
     },
     "execution_count": 46,
     "metadata": {},
     "output_type": "execute_result"
    }
   ],
   "source": [
    "nbaseline"
   ]
  },
  {
   "cell_type": "code",
   "execution_count": null,
   "metadata": {},
   "outputs": [],
   "source": []
  },
  {
   "cell_type": "code",
   "execution_count": 36,
   "metadata": {},
   "outputs": [
    {
     "data": {
      "text/plain": [
       "19.597481449525453"
      ]
     },
     "execution_count": 36,
     "metadata": {},
     "output_type": "execute_result"
    }
   ],
   "source": [
    "twitch_df['Total_Earnings'].mean()"
   ]
  },
  {
   "cell_type": "code",
   "execution_count": 43,
   "metadata": {},
   "outputs": [
    {
     "data": {
      "text/plain": [
       "0         0.000000\n",
       "1         0.000000\n",
       "2         0.000000\n",
       "3         0.000000\n",
       "4         0.000000\n",
       "           ...    \n",
       "1154     48.111817\n",
       "1155      0.000000\n",
       "1156     47.043754\n",
       "1157    110.931544\n",
       "1158     67.807286\n",
       "Name: Total_Earnings, Length: 1159, dtype: float64"
      ]
     },
     "execution_count": 43,
     "metadata": {},
     "output_type": "execute_result"
    }
   ],
   "source": [
    "a= twitch_df['Total_Earnings'] *twitch_df['Total_Earnings'].mean()\n",
    "a"
   ]
  },
  {
   "cell_type": "code",
   "execution_count": null,
   "metadata": {},
   "outputs": [],
   "source": []
  },
  {
   "cell_type": "code",
   "execution_count": null,
   "metadata": {},
   "outputs": [],
   "source": []
  },
  {
   "cell_type": "code",
   "execution_count": null,
   "metadata": {},
   "outputs": [],
   "source": [
    "y_pred = [twitch_df[\"Total_Earnings\"].mean()] * len(twitch_df[\"Total_Earnings\"])\n",
    "y_pred"
   ]
  },
  {
   "cell_type": "code",
   "execution_count": 16,
   "metadata": {},
   "outputs": [],
   "source": [
    "from sklearn.linear_model import LinearRegression\n",
    "from sklearn.metrics import mean_absolute_error, mean_squared_error, r2_score"
   ]
  },
  {
   "cell_type": "code",
   "execution_count": 17,
   "metadata": {},
   "outputs": [
    {
     "data": {
      "text/plain": [
       "2960.2625199312783"
      ]
     },
     "execution_count": 17,
     "metadata": {},
     "output_type": "execute_result"
    }
   ],
   "source": [
    "mean_squared_error(y_target, y_pred)"
   ]
  },
  {
   "cell_type": "raw",
   "metadata": {},
   "source": [
    "r2_score(y_target, y_pred)"
   ]
  },
  {
   "cell_type": "code",
   "execution_count": 18,
   "metadata": {},
   "outputs": [],
   "source": [
    "# Make a function to create Matrix and Target pre validation split\n",
    "def create_Xmatrix_ytarget(training_df):\n",
    "  y_target = training_df[\"Total_Earnings\"]\n",
    "  X_matrix = training_df.drop(\"Total_Earnings\", axis=1)\n",
    "  return (X_matrix, y_target)"
   ]
  },
  {
   "cell_type": "code",
   "execution_count": 19,
   "metadata": {},
   "outputs": [
    {
     "name": "stdout",
     "output_type": "stream",
     "text": [
      "(1159, 42)\n",
      "(1159,)\n"
     ]
    }
   ],
   "source": [
    "X_matrix, y_target = create_Xmatrix_ytarget(twitch_df)\n",
    "print(X_matrix.shape)\n",
    "print(y_target.shape)"
   ]
  },
  {
   "cell_type": "markdown",
   "metadata": {},
   "source": [
    "# Train Val Test split"
   ]
  },
  {
   "cell_type": "code",
   "execution_count": 22,
   "metadata": {},
   "outputs": [],
   "source": [
    "from sklearn.model_selection import train_test_split"
   ]
  },
  {
   "cell_type": "code",
   "execution_count": 23,
   "metadata": {},
   "outputs": [],
   "source": [
    "X_train_temp, X_test, y_train_temp, y_test = train_test_split(\n",
    "    X_matrix, y_target, train_size=0.80, test_size=0.20, random_state=42)"
   ]
  },
  {
   "cell_type": "code",
   "execution_count": 24,
   "metadata": {},
   "outputs": [
    {
     "name": "stdout",
     "output_type": "stream",
     "text": [
      "(927, 42)\n",
      "(927,)\n",
      "(232, 42)\n",
      "(232,)\n"
     ]
    }
   ],
   "source": [
    "print(X_train_temp.shape)\n",
    "print(y_train_temp.shape)\n",
    "print(X_test.shape)\n",
    "print(y_test.shape)"
   ]
  },
  {
   "cell_type": "code",
   "execution_count": 25,
   "metadata": {},
   "outputs": [],
   "source": [
    "X_train, X_val, y_train, y_val = train_test_split(\n",
    "    X_train_temp, y_train_temp, train_size=0.80, test_size=0.20, random_state=42)"
   ]
  },
  {
   "cell_type": "code",
   "execution_count": 26,
   "metadata": {},
   "outputs": [
    {
     "name": "stdout",
     "output_type": "stream",
     "text": [
      "(741, 42)\n",
      "(741,)\n",
      "(186, 42)\n",
      "(186,)\n",
      "(232, 42)\n",
      "(232,)\n"
     ]
    }
   ],
   "source": [
    "print(X_train.shape)\n",
    "print(y_train.shape)\n",
    "print(X_val.shape)\n",
    "print(y_val.shape)\n",
    "print(X_test.shape)\n",
    "print(y_test.shape)"
   ]
  },
  {
   "cell_type": "code",
   "execution_count": null,
   "metadata": {},
   "outputs": [],
   "source": [
    "X_matrix.info()"
   ]
  },
  {
   "cell_type": "code",
   "execution_count": null,
   "metadata": {},
   "outputs": [],
   "source": []
  }
 ],
 "metadata": {
  "kernelspec": {
   "display_name": "Python 3",
   "language": "python",
   "name": "python3"
  },
  "language_info": {
   "codemirror_mode": {
    "name": "ipython",
    "version": 3
   },
   "file_extension": ".py",
   "mimetype": "text/x-python",
   "name": "python",
   "nbconvert_exporter": "python",
   "pygments_lexer": "ipython3",
   "version": "3.8.3"
  }
 },
 "nbformat": 4,
 "nbformat_minor": 4
}
