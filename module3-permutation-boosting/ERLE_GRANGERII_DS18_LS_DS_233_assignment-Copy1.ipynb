{
 "cells": [
  {
   "cell_type": "markdown",
   "metadata": {
    "colab_type": "text",
    "id": "nCc3XZEyG3XV"
   },
   "source": [
    "Lambda School Data Science\n",
    "\n",
    "*Unit 2, Sprint 3, Module 3*\n",
    "\n",
    "---\n",
    "\n",
    "\n",
    "# Permutation & Boosting\n",
    "\n",
    "You will use your portfolio project dataset for all assignments this sprint.\n",
    "\n",
    "## Assignment\n",
    "\n",
    "Complete these tasks for your project, and document your work.\n",
    "\n",
    "- [ ] If you haven't completed assignment #1, please do so first.\n",
    "- [ ] Continue to clean and explore your data. Make exploratory visualizations.\n",
    "- [ ] Fit a model. Does it beat your baseline? \n",
    "- [ ] Try xgboost.\n",
    "- [ ] Get your model's permutation importances.\n",
    "\n",
    "You should try to complete an initial model today, because the rest of the week, we're making model interpretation visualizations.\n",
    "\n",
    "But, if you aren't ready to try xgboost and permutation importances with your dataset today, that's okay. You can practice with another dataset instead. You may choose any dataset you've worked with previously.\n",
    "\n",
    "The data subdirectory includes the Titanic dataset for classification and the NYC apartments dataset for regression. You may want to choose one of these datasets, because example solutions will be available for each.\n",
    "\n",
    "\n",
    "## Reading\n",
    "\n",
    "Top recommendations in _**bold italic:**_\n",
    "\n",
    "#### Permutation Importances\n",
    "- _**[Kaggle / Dan Becker: Machine Learning Explainability](https://www.kaggle.com/dansbecker/permutation-importance)**_\n",
    "- [Christoph Molnar: Interpretable Machine Learning](https://christophm.github.io/interpretable-ml-book/feature-importance.html)\n",
    "\n",
    "#### (Default) Feature Importances\n",
    "  - [Ando Saabas: Selecting good features, Part 3, Random Forests](https://blog.datadive.net/selecting-good-features-part-iii-random-forests/)\n",
    "  - [Terence Parr, et al: Beware Default Random Forest Importances](https://explained.ai/rf-importance/index.html)\n",
    "\n",
    "#### Gradient Boosting\n",
    "  - [A Gentle Introduction to the Gradient Boosting Algorithm for Machine Learning](https://machinelearningmastery.com/gentle-introduction-gradient-boosting-algorithm-machine-learning/)\n",
    "  - [An Introduction to Statistical Learning](http://www-bcf.usc.edu/~gareth/ISL/ISLR%20Seventh%20Printing.pdf), Chapter 8\n",
    "  - _**[Gradient Boosting Explained](https://www.gormanalysis.com/blog/gradient-boosting-explained/)**_ — Ben Gorman\n",
    "  - [Gradient Boosting Explained](http://arogozhnikov.github.io/2016/06/24/gradient_boosting_explained.html) — Alex Rogozhnikov\n",
    "  - [How to explain gradient boosting](https://explained.ai/gradient-boosting/) — Terence Parr & Jeremy Howard"
   ]
  },
  {
   "cell_type": "code",
   "execution_count": 1,
   "metadata": {},
   "outputs": [
    {
     "name": "stdout",
     "output_type": "stream",
     "text": [
      "Requirement already satisfied: category_encoders==2.* in /Users/kellycho/.local/share/virtualenvs/DS-Unit-2-Applied-Modeling-0wMfy1BX/lib/python3.8/site-packages (2.2.2)\n",
      "Requirement already satisfied: numpy>=1.14.0 in /Users/kellycho/.local/share/virtualenvs/DS-Unit-2-Applied-Modeling-0wMfy1BX/lib/python3.8/site-packages (from category_encoders==2.*) (1.19.1)\n",
      "Requirement already satisfied: statsmodels>=0.9.0 in /Users/kellycho/.local/share/virtualenvs/DS-Unit-2-Applied-Modeling-0wMfy1BX/lib/python3.8/site-packages (from category_encoders==2.*) (0.11.1)\n",
      "Requirement already satisfied: scipy>=1.0.0 in /Users/kellycho/.local/share/virtualenvs/DS-Unit-2-Applied-Modeling-0wMfy1BX/lib/python3.8/site-packages (from category_encoders==2.*) (1.5.2)\n",
      "Requirement already satisfied: patsy>=0.5.1 in /Users/kellycho/.local/share/virtualenvs/DS-Unit-2-Applied-Modeling-0wMfy1BX/lib/python3.8/site-packages (from category_encoders==2.*) (0.5.1)\n",
      "Requirement already satisfied: scikit-learn>=0.20.0 in /Users/kellycho/.local/share/virtualenvs/DS-Unit-2-Applied-Modeling-0wMfy1BX/lib/python3.8/site-packages (from category_encoders==2.*) (0.23.2)\n",
      "Requirement already satisfied: pandas>=0.21.1 in /Users/kellycho/.local/share/virtualenvs/DS-Unit-2-Applied-Modeling-0wMfy1BX/lib/python3.8/site-packages (from category_encoders==2.*) (1.1.0)\n",
      "Requirement already satisfied: six in /Users/kellycho/.local/share/virtualenvs/DS-Unit-2-Applied-Modeling-0wMfy1BX/lib/python3.8/site-packages (from patsy>=0.5.1->category_encoders==2.*) (1.15.0)\n",
      "Requirement already satisfied: threadpoolctl>=2.0.0 in /Users/kellycho/.local/share/virtualenvs/DS-Unit-2-Applied-Modeling-0wMfy1BX/lib/python3.8/site-packages (from scikit-learn>=0.20.0->category_encoders==2.*) (2.1.0)\n",
      "Requirement already satisfied: joblib>=0.11 in /Users/kellycho/.local/share/virtualenvs/DS-Unit-2-Applied-Modeling-0wMfy1BX/lib/python3.8/site-packages (from scikit-learn>=0.20.0->category_encoders==2.*) (0.16.0)\n",
      "Requirement already satisfied: pytz>=2017.2 in /Users/kellycho/.local/share/virtualenvs/DS-Unit-2-Applied-Modeling-0wMfy1BX/lib/python3.8/site-packages (from pandas>=0.21.1->category_encoders==2.*) (2020.1)\n",
      "Requirement already satisfied: python-dateutil>=2.7.3 in /Users/kellycho/.local/share/virtualenvs/DS-Unit-2-Applied-Modeling-0wMfy1BX/lib/python3.8/site-packages (from pandas>=0.21.1->category_encoders==2.*) (2.8.1)\n",
      "Requirement already satisfied: pandas-profiling==2.* in /Users/kellycho/.local/share/virtualenvs/DS-Unit-2-Applied-Modeling-0wMfy1BX/lib/python3.8/site-packages (2.8.0)\n",
      "Requirement already satisfied: phik>=0.9.10 in /Users/kellycho/.local/share/virtualenvs/DS-Unit-2-Applied-Modeling-0wMfy1BX/lib/python3.8/site-packages (from pandas-profiling==2.*) (0.10.0)\n",
      "Requirement already satisfied: ipywidgets>=7.5.1 in /Users/kellycho/.local/share/virtualenvs/DS-Unit-2-Applied-Modeling-0wMfy1BX/lib/python3.8/site-packages (from pandas-profiling==2.*) (7.5.1)\n",
      "Requirement already satisfied: matplotlib>=3.2.0 in /Users/kellycho/.local/share/virtualenvs/DS-Unit-2-Applied-Modeling-0wMfy1BX/lib/python3.8/site-packages (from pandas-profiling==2.*) (3.3.0)\n",
      "Requirement already satisfied: missingno>=0.4.2 in /Users/kellycho/.local/share/virtualenvs/DS-Unit-2-Applied-Modeling-0wMfy1BX/lib/python3.8/site-packages (from pandas-profiling==2.*) (0.4.2)\n",
      "Requirement already satisfied: scipy>=1.4.1 in /Users/kellycho/.local/share/virtualenvs/DS-Unit-2-Applied-Modeling-0wMfy1BX/lib/python3.8/site-packages (from pandas-profiling==2.*) (1.5.2)\n",
      "Requirement already satisfied: tqdm>=4.43.0 in /Users/kellycho/.local/share/virtualenvs/DS-Unit-2-Applied-Modeling-0wMfy1BX/lib/python3.8/site-packages (from pandas-profiling==2.*) (4.48.2)\n",
      "Requirement already satisfied: pandas!=1.0.0,!=1.0.1,!=1.0.2,>=0.25.3 in /Users/kellycho/.local/share/virtualenvs/DS-Unit-2-Applied-Modeling-0wMfy1BX/lib/python3.8/site-packages (from pandas-profiling==2.*) (1.1.0)\n",
      "Requirement already satisfied: tangled-up-in-unicode>=0.0.6 in /Users/kellycho/.local/share/virtualenvs/DS-Unit-2-Applied-Modeling-0wMfy1BX/lib/python3.8/site-packages (from pandas-profiling==2.*) (0.0.6)\n",
      "Requirement already satisfied: astropy>=4.0 in /Users/kellycho/.local/share/virtualenvs/DS-Unit-2-Applied-Modeling-0wMfy1BX/lib/python3.8/site-packages (from pandas-profiling==2.*) (4.0.1.post1)\n",
      "Requirement already satisfied: visions[type_image_path]==0.4.4 in /Users/kellycho/.local/share/virtualenvs/DS-Unit-2-Applied-Modeling-0wMfy1BX/lib/python3.8/site-packages (from pandas-profiling==2.*) (0.4.4)\n",
      "Requirement already satisfied: confuse>=1.0.0 in /Users/kellycho/.local/share/virtualenvs/DS-Unit-2-Applied-Modeling-0wMfy1BX/lib/python3.8/site-packages (from pandas-profiling==2.*) (1.3.0)\n",
      "Requirement already satisfied: requests>=2.23.0 in /Users/kellycho/.local/share/virtualenvs/DS-Unit-2-Applied-Modeling-0wMfy1BX/lib/python3.8/site-packages (from pandas-profiling==2.*) (2.24.0)\n",
      "Requirement already satisfied: htmlmin>=0.1.12 in /Users/kellycho/.local/share/virtualenvs/DS-Unit-2-Applied-Modeling-0wMfy1BX/lib/python3.8/site-packages (from pandas-profiling==2.*) (0.1.12)\n",
      "Requirement already satisfied: numpy>=1.16.0 in /Users/kellycho/.local/share/virtualenvs/DS-Unit-2-Applied-Modeling-0wMfy1BX/lib/python3.8/site-packages (from pandas-profiling==2.*) (1.19.1)\n",
      "Requirement already satisfied: joblib in /Users/kellycho/.local/share/virtualenvs/DS-Unit-2-Applied-Modeling-0wMfy1BX/lib/python3.8/site-packages (from pandas-profiling==2.*) (0.16.0)\n",
      "Requirement already satisfied: jinja2>=2.11.1 in /Users/kellycho/.local/share/virtualenvs/DS-Unit-2-Applied-Modeling-0wMfy1BX/lib/python3.8/site-packages (from pandas-profiling==2.*) (2.11.2)\n",
      "Requirement already satisfied: numba>=0.38.1 in /Users/kellycho/.local/share/virtualenvs/DS-Unit-2-Applied-Modeling-0wMfy1BX/lib/python3.8/site-packages (from phik>=0.9.10->pandas-profiling==2.*) (0.51.0)\n",
      "Requirement already satisfied: ipython>=4.0.0; python_version >= \"3.3\" in /Users/kellycho/.local/share/virtualenvs/DS-Unit-2-Applied-Modeling-0wMfy1BX/lib/python3.8/site-packages (from ipywidgets>=7.5.1->pandas-profiling==2.*) (7.17.0)\n",
      "Requirement already satisfied: widgetsnbextension~=3.5.0 in /Users/kellycho/.local/share/virtualenvs/DS-Unit-2-Applied-Modeling-0wMfy1BX/lib/python3.8/site-packages (from ipywidgets>=7.5.1->pandas-profiling==2.*) (3.5.1)\n",
      "Requirement already satisfied: ipykernel>=4.5.1 in /Users/kellycho/.local/share/virtualenvs/DS-Unit-2-Applied-Modeling-0wMfy1BX/lib/python3.8/site-packages (from ipywidgets>=7.5.1->pandas-profiling==2.*) (5.3.4)\n",
      "Requirement already satisfied: nbformat>=4.2.0 in /Users/kellycho/.local/share/virtualenvs/DS-Unit-2-Applied-Modeling-0wMfy1BX/lib/python3.8/site-packages (from ipywidgets>=7.5.1->pandas-profiling==2.*) (5.0.7)\n",
      "Requirement already satisfied: traitlets>=4.3.1 in /Users/kellycho/.local/share/virtualenvs/DS-Unit-2-Applied-Modeling-0wMfy1BX/lib/python3.8/site-packages (from ipywidgets>=7.5.1->pandas-profiling==2.*) (4.3.3)\n",
      "Requirement already satisfied: pillow>=6.2.0 in /Users/kellycho/.local/share/virtualenvs/DS-Unit-2-Applied-Modeling-0wMfy1BX/lib/python3.8/site-packages (from matplotlib>=3.2.0->pandas-profiling==2.*) (7.2.0)\n",
      "Requirement already satisfied: python-dateutil>=2.1 in /Users/kellycho/.local/share/virtualenvs/DS-Unit-2-Applied-Modeling-0wMfy1BX/lib/python3.8/site-packages (from matplotlib>=3.2.0->pandas-profiling==2.*) (2.8.1)\n",
      "Requirement already satisfied: pyparsing!=2.0.4,!=2.1.2,!=2.1.6,>=2.0.3 in /Users/kellycho/.local/share/virtualenvs/DS-Unit-2-Applied-Modeling-0wMfy1BX/lib/python3.8/site-packages (from matplotlib>=3.2.0->pandas-profiling==2.*) (2.4.7)\n",
      "Requirement already satisfied: kiwisolver>=1.0.1 in /Users/kellycho/.local/share/virtualenvs/DS-Unit-2-Applied-Modeling-0wMfy1BX/lib/python3.8/site-packages (from matplotlib>=3.2.0->pandas-profiling==2.*) (1.2.0)\n",
      "Requirement already satisfied: cycler>=0.10 in /Users/kellycho/.local/share/virtualenvs/DS-Unit-2-Applied-Modeling-0wMfy1BX/lib/python3.8/site-packages (from matplotlib>=3.2.0->pandas-profiling==2.*) (0.10.0)\n",
      "Requirement already satisfied: seaborn in /Users/kellycho/.local/share/virtualenvs/DS-Unit-2-Applied-Modeling-0wMfy1BX/lib/python3.8/site-packages (from missingno>=0.4.2->pandas-profiling==2.*) (0.10.1)\n",
      "Requirement already satisfied: pytz>=2017.2 in /Users/kellycho/.local/share/virtualenvs/DS-Unit-2-Applied-Modeling-0wMfy1BX/lib/python3.8/site-packages (from pandas!=1.0.0,!=1.0.1,!=1.0.2,>=0.25.3->pandas-profiling==2.*) (2020.1)\n",
      "Requirement already satisfied: networkx>=2.4 in /Users/kellycho/.local/share/virtualenvs/DS-Unit-2-Applied-Modeling-0wMfy1BX/lib/python3.8/site-packages (from visions[type_image_path]==0.4.4->pandas-profiling==2.*) (2.4)\n",
      "Requirement already satisfied: attrs>=19.3.0 in /Users/kellycho/.local/share/virtualenvs/DS-Unit-2-Applied-Modeling-0wMfy1BX/lib/python3.8/site-packages (from visions[type_image_path]==0.4.4->pandas-profiling==2.*) (19.3.0)\n",
      "Requirement already satisfied: imagehash; extra == \"type_image_path\" in /Users/kellycho/.local/share/virtualenvs/DS-Unit-2-Applied-Modeling-0wMfy1BX/lib/python3.8/site-packages (from visions[type_image_path]==0.4.4->pandas-profiling==2.*) (4.1.0)\n",
      "Requirement already satisfied: pyyaml in /Users/kellycho/.local/share/virtualenvs/DS-Unit-2-Applied-Modeling-0wMfy1BX/lib/python3.8/site-packages (from confuse>=1.0.0->pandas-profiling==2.*) (5.3.1)\n",
      "Requirement already satisfied: chardet<4,>=3.0.2 in /Users/kellycho/.local/share/virtualenvs/DS-Unit-2-Applied-Modeling-0wMfy1BX/lib/python3.8/site-packages (from requests>=2.23.0->pandas-profiling==2.*) (3.0.4)\n",
      "Requirement already satisfied: certifi>=2017.4.17 in /Users/kellycho/.local/share/virtualenvs/DS-Unit-2-Applied-Modeling-0wMfy1BX/lib/python3.8/site-packages (from requests>=2.23.0->pandas-profiling==2.*) (2020.6.20)\n",
      "Requirement already satisfied: urllib3!=1.25.0,!=1.25.1,<1.26,>=1.21.1 in /Users/kellycho/.local/share/virtualenvs/DS-Unit-2-Applied-Modeling-0wMfy1BX/lib/python3.8/site-packages (from requests>=2.23.0->pandas-profiling==2.*) (1.25.10)\n",
      "Requirement already satisfied: idna<3,>=2.5 in /Users/kellycho/.local/share/virtualenvs/DS-Unit-2-Applied-Modeling-0wMfy1BX/lib/python3.8/site-packages (from requests>=2.23.0->pandas-profiling==2.*) (2.10)\n",
      "Requirement already satisfied: MarkupSafe>=0.23 in /Users/kellycho/.local/share/virtualenvs/DS-Unit-2-Applied-Modeling-0wMfy1BX/lib/python3.8/site-packages (from jinja2>=2.11.1->pandas-profiling==2.*) (1.1.1)\n",
      "Requirement already satisfied: llvmlite<0.35,>=0.34.0.dev0 in /Users/kellycho/.local/share/virtualenvs/DS-Unit-2-Applied-Modeling-0wMfy1BX/lib/python3.8/site-packages (from numba>=0.38.1->phik>=0.9.10->pandas-profiling==2.*) (0.34.0)\n",
      "Requirement already satisfied: setuptools in /Users/kellycho/.local/share/virtualenvs/DS-Unit-2-Applied-Modeling-0wMfy1BX/lib/python3.8/site-packages (from numba>=0.38.1->phik>=0.9.10->pandas-profiling==2.*) (49.6.0)\n",
      "Requirement already satisfied: appnope; sys_platform == \"darwin\" in /Users/kellycho/.local/share/virtualenvs/DS-Unit-2-Applied-Modeling-0wMfy1BX/lib/python3.8/site-packages (from ipython>=4.0.0; python_version >= \"3.3\"->ipywidgets>=7.5.1->pandas-profiling==2.*) (0.1.0)\n",
      "Requirement already satisfied: backcall in /Users/kellycho/.local/share/virtualenvs/DS-Unit-2-Applied-Modeling-0wMfy1BX/lib/python3.8/site-packages (from ipython>=4.0.0; python_version >= \"3.3\"->ipywidgets>=7.5.1->pandas-profiling==2.*) (0.2.0)\n",
      "Requirement already satisfied: decorator in /Users/kellycho/.local/share/virtualenvs/DS-Unit-2-Applied-Modeling-0wMfy1BX/lib/python3.8/site-packages (from ipython>=4.0.0; python_version >= \"3.3\"->ipywidgets>=7.5.1->pandas-profiling==2.*) (4.4.2)\n",
      "Requirement already satisfied: pexpect; sys_platform != \"win32\" in /Users/kellycho/.local/share/virtualenvs/DS-Unit-2-Applied-Modeling-0wMfy1BX/lib/python3.8/site-packages (from ipython>=4.0.0; python_version >= \"3.3\"->ipywidgets>=7.5.1->pandas-profiling==2.*) (4.8.0)\n",
      "Requirement already satisfied: pygments in /Users/kellycho/.local/share/virtualenvs/DS-Unit-2-Applied-Modeling-0wMfy1BX/lib/python3.8/site-packages (from ipython>=4.0.0; python_version >= \"3.3\"->ipywidgets>=7.5.1->pandas-profiling==2.*) (2.6.1)\n",
      "Requirement already satisfied: jedi>=0.10 in /Users/kellycho/.local/share/virtualenvs/DS-Unit-2-Applied-Modeling-0wMfy1BX/lib/python3.8/site-packages (from ipython>=4.0.0; python_version >= \"3.3\"->ipywidgets>=7.5.1->pandas-profiling==2.*) (0.17.2)\n",
      "Requirement already satisfied: pickleshare in /Users/kellycho/.local/share/virtualenvs/DS-Unit-2-Applied-Modeling-0wMfy1BX/lib/python3.8/site-packages (from ipython>=4.0.0; python_version >= \"3.3\"->ipywidgets>=7.5.1->pandas-profiling==2.*) (0.7.5)\n",
      "Requirement already satisfied: prompt-toolkit!=3.0.0,!=3.0.1,<3.1.0,>=2.0.0 in /Users/kellycho/.local/share/virtualenvs/DS-Unit-2-Applied-Modeling-0wMfy1BX/lib/python3.8/site-packages (from ipython>=4.0.0; python_version >= \"3.3\"->ipywidgets>=7.5.1->pandas-profiling==2.*) (3.0.5)\n",
      "Requirement already satisfied: notebook>=4.4.1 in /Users/kellycho/.local/share/virtualenvs/DS-Unit-2-Applied-Modeling-0wMfy1BX/lib/python3.8/site-packages (from widgetsnbextension~=3.5.0->ipywidgets>=7.5.1->pandas-profiling==2.*) (6.1.1)\n",
      "Requirement already satisfied: jupyter-client in /Users/kellycho/.local/share/virtualenvs/DS-Unit-2-Applied-Modeling-0wMfy1BX/lib/python3.8/site-packages (from ipykernel>=4.5.1->ipywidgets>=7.5.1->pandas-profiling==2.*) (6.1.6)\n",
      "Requirement already satisfied: tornado>=4.2 in /Users/kellycho/.local/share/virtualenvs/DS-Unit-2-Applied-Modeling-0wMfy1BX/lib/python3.8/site-packages (from ipykernel>=4.5.1->ipywidgets>=7.5.1->pandas-profiling==2.*) (6.0.4)\n",
      "Requirement already satisfied: jsonschema!=2.5.0,>=2.4 in /Users/kellycho/.local/share/virtualenvs/DS-Unit-2-Applied-Modeling-0wMfy1BX/lib/python3.8/site-packages (from nbformat>=4.2.0->ipywidgets>=7.5.1->pandas-profiling==2.*) (3.2.0)\n",
      "Requirement already satisfied: jupyter-core in /Users/kellycho/.local/share/virtualenvs/DS-Unit-2-Applied-Modeling-0wMfy1BX/lib/python3.8/site-packages (from nbformat>=4.2.0->ipywidgets>=7.5.1->pandas-profiling==2.*) (4.6.3)\n",
      "Requirement already satisfied: ipython-genutils in /Users/kellycho/.local/share/virtualenvs/DS-Unit-2-Applied-Modeling-0wMfy1BX/lib/python3.8/site-packages (from nbformat>=4.2.0->ipywidgets>=7.5.1->pandas-profiling==2.*) (0.2.0)\n",
      "Requirement already satisfied: six in /Users/kellycho/.local/share/virtualenvs/DS-Unit-2-Applied-Modeling-0wMfy1BX/lib/python3.8/site-packages (from traitlets>=4.3.1->ipywidgets>=7.5.1->pandas-profiling==2.*) (1.15.0)\n",
      "Requirement already satisfied: PyWavelets in /Users/kellycho/.local/share/virtualenvs/DS-Unit-2-Applied-Modeling-0wMfy1BX/lib/python3.8/site-packages (from imagehash; extra == \"type_image_path\"->visions[type_image_path]==0.4.4->pandas-profiling==2.*) (1.1.1)\n",
      "Requirement already satisfied: ptyprocess>=0.5 in /Users/kellycho/.local/share/virtualenvs/DS-Unit-2-Applied-Modeling-0wMfy1BX/lib/python3.8/site-packages (from pexpect; sys_platform != \"win32\"->ipython>=4.0.0; python_version >= \"3.3\"->ipywidgets>=7.5.1->pandas-profiling==2.*) (0.6.0)\n",
      "Requirement already satisfied: parso<0.8.0,>=0.7.0 in /Users/kellycho/.local/share/virtualenvs/DS-Unit-2-Applied-Modeling-0wMfy1BX/lib/python3.8/site-packages (from jedi>=0.10->ipython>=4.0.0; python_version >= \"3.3\"->ipywidgets>=7.5.1->pandas-profiling==2.*) (0.7.1)\n",
      "Requirement already satisfied: wcwidth in /Users/kellycho/.local/share/virtualenvs/DS-Unit-2-Applied-Modeling-0wMfy1BX/lib/python3.8/site-packages (from prompt-toolkit!=3.0.0,!=3.0.1,<3.1.0,>=2.0.0->ipython>=4.0.0; python_version >= \"3.3\"->ipywidgets>=7.5.1->pandas-profiling==2.*) (0.2.5)\n",
      "Requirement already satisfied: pyzmq>=17 in /Users/kellycho/.local/share/virtualenvs/DS-Unit-2-Applied-Modeling-0wMfy1BX/lib/python3.8/site-packages (from notebook>=4.4.1->widgetsnbextension~=3.5.0->ipywidgets>=7.5.1->pandas-profiling==2.*) (19.0.2)\n",
      "Requirement already satisfied: Send2Trash in /Users/kellycho/.local/share/virtualenvs/DS-Unit-2-Applied-Modeling-0wMfy1BX/lib/python3.8/site-packages (from notebook>=4.4.1->widgetsnbextension~=3.5.0->ipywidgets>=7.5.1->pandas-profiling==2.*) (1.5.0)\n",
      "Requirement already satisfied: terminado>=0.8.3 in /Users/kellycho/.local/share/virtualenvs/DS-Unit-2-Applied-Modeling-0wMfy1BX/lib/python3.8/site-packages (from notebook>=4.4.1->widgetsnbextension~=3.5.0->ipywidgets>=7.5.1->pandas-profiling==2.*) (0.8.3)\n",
      "Requirement already satisfied: prometheus-client in /Users/kellycho/.local/share/virtualenvs/DS-Unit-2-Applied-Modeling-0wMfy1BX/lib/python3.8/site-packages (from notebook>=4.4.1->widgetsnbextension~=3.5.0->ipywidgets>=7.5.1->pandas-profiling==2.*) (0.8.0)\n",
      "Requirement already satisfied: argon2-cffi in /Users/kellycho/.local/share/virtualenvs/DS-Unit-2-Applied-Modeling-0wMfy1BX/lib/python3.8/site-packages (from notebook>=4.4.1->widgetsnbextension~=3.5.0->ipywidgets>=7.5.1->pandas-profiling==2.*) (20.1.0)\n",
      "Requirement already satisfied: nbconvert in /Users/kellycho/.local/share/virtualenvs/DS-Unit-2-Applied-Modeling-0wMfy1BX/lib/python3.8/site-packages (from notebook>=4.4.1->widgetsnbextension~=3.5.0->ipywidgets>=7.5.1->pandas-profiling==2.*) (5.6.1)\n",
      "Requirement already satisfied: pyrsistent>=0.14.0 in /Users/kellycho/.local/share/virtualenvs/DS-Unit-2-Applied-Modeling-0wMfy1BX/lib/python3.8/site-packages (from jsonschema!=2.5.0,>=2.4->nbformat>=4.2.0->ipywidgets>=7.5.1->pandas-profiling==2.*) (0.16.0)\n",
      "Requirement already satisfied: cffi>=1.0.0 in /Users/kellycho/.local/share/virtualenvs/DS-Unit-2-Applied-Modeling-0wMfy1BX/lib/python3.8/site-packages (from argon2-cffi->notebook>=4.4.1->widgetsnbextension~=3.5.0->ipywidgets>=7.5.1->pandas-profiling==2.*) (1.14.1)\n",
      "Requirement already satisfied: mistune<2,>=0.8.1 in /Users/kellycho/.local/share/virtualenvs/DS-Unit-2-Applied-Modeling-0wMfy1BX/lib/python3.8/site-packages (from nbconvert->notebook>=4.4.1->widgetsnbextension~=3.5.0->ipywidgets>=7.5.1->pandas-profiling==2.*) (0.8.4)\n",
      "Requirement already satisfied: entrypoints>=0.2.2 in /Users/kellycho/.local/share/virtualenvs/DS-Unit-2-Applied-Modeling-0wMfy1BX/lib/python3.8/site-packages (from nbconvert->notebook>=4.4.1->widgetsnbextension~=3.5.0->ipywidgets>=7.5.1->pandas-profiling==2.*) (0.3)\n",
      "Requirement already satisfied: bleach in /Users/kellycho/.local/share/virtualenvs/DS-Unit-2-Applied-Modeling-0wMfy1BX/lib/python3.8/site-packages (from nbconvert->notebook>=4.4.1->widgetsnbextension~=3.5.0->ipywidgets>=7.5.1->pandas-profiling==2.*) (3.1.5)\n",
      "Requirement already satisfied: testpath in /Users/kellycho/.local/share/virtualenvs/DS-Unit-2-Applied-Modeling-0wMfy1BX/lib/python3.8/site-packages (from nbconvert->notebook>=4.4.1->widgetsnbextension~=3.5.0->ipywidgets>=7.5.1->pandas-profiling==2.*) (0.4.4)\n",
      "Requirement already satisfied: defusedxml in /Users/kellycho/.local/share/virtualenvs/DS-Unit-2-Applied-Modeling-0wMfy1BX/lib/python3.8/site-packages (from nbconvert->notebook>=4.4.1->widgetsnbextension~=3.5.0->ipywidgets>=7.5.1->pandas-profiling==2.*) (0.6.0)\n",
      "Requirement already satisfied: pandocfilters>=1.4.1 in /Users/kellycho/.local/share/virtualenvs/DS-Unit-2-Applied-Modeling-0wMfy1BX/lib/python3.8/site-packages (from nbconvert->notebook>=4.4.1->widgetsnbextension~=3.5.0->ipywidgets>=7.5.1->pandas-profiling==2.*) (1.4.2)\n",
      "Requirement already satisfied: pycparser in /Users/kellycho/.local/share/virtualenvs/DS-Unit-2-Applied-Modeling-0wMfy1BX/lib/python3.8/site-packages (from cffi>=1.0.0->argon2-cffi->notebook>=4.4.1->widgetsnbextension~=3.5.0->ipywidgets>=7.5.1->pandas-profiling==2.*) (2.20)\n",
      "Requirement already satisfied: webencodings in /Users/kellycho/.local/share/virtualenvs/DS-Unit-2-Applied-Modeling-0wMfy1BX/lib/python3.8/site-packages (from bleach->nbconvert->notebook>=4.4.1->widgetsnbextension~=3.5.0->ipywidgets>=7.5.1->pandas-profiling==2.*) (0.5.1)\n",
      "Requirement already satisfied: packaging in /Users/kellycho/.local/share/virtualenvs/DS-Unit-2-Applied-Modeling-0wMfy1BX/lib/python3.8/site-packages (from bleach->nbconvert->notebook>=4.4.1->widgetsnbextension~=3.5.0->ipywidgets>=7.5.1->pandas-profiling==2.*) (20.4)\n"
     ]
    }
   ],
   "source": [
    "!pip install category_encoders==2.*\n",
    "!pip install pandas-profiling==2.*"
   ]
  },
  {
   "cell_type": "code",
   "execution_count": 2,
   "metadata": {},
   "outputs": [
    {
     "name": "stdout",
     "output_type": "stream",
     "text": [
      "Requirement already satisfied: pandas in /Users/kellycho/.local/share/virtualenvs/DS-Unit-2-Applied-Modeling-0wMfy1BX/lib/python3.8/site-packages (1.1.0)\n",
      "Requirement already satisfied: pytz>=2017.2 in /Users/kellycho/.local/share/virtualenvs/DS-Unit-2-Applied-Modeling-0wMfy1BX/lib/python3.8/site-packages (from pandas) (2020.1)\n",
      "Requirement already satisfied: numpy>=1.15.4 in /Users/kellycho/.local/share/virtualenvs/DS-Unit-2-Applied-Modeling-0wMfy1BX/lib/python3.8/site-packages (from pandas) (1.19.1)\n",
      "Requirement already satisfied: python-dateutil>=2.7.3 in /Users/kellycho/.local/share/virtualenvs/DS-Unit-2-Applied-Modeling-0wMfy1BX/lib/python3.8/site-packages (from pandas) (2.8.1)\n",
      "Requirement already satisfied: six>=1.5 in /Users/kellycho/.local/share/virtualenvs/DS-Unit-2-Applied-Modeling-0wMfy1BX/lib/python3.8/site-packages (from python-dateutil>=2.7.3->pandas) (1.15.0)\n",
      "Requirement already satisfied: matplotlib in /Users/kellycho/.local/share/virtualenvs/DS-Unit-2-Applied-Modeling-0wMfy1BX/lib/python3.8/site-packages (3.3.0)\n",
      "Requirement already satisfied: python-dateutil>=2.1 in /Users/kellycho/.local/share/virtualenvs/DS-Unit-2-Applied-Modeling-0wMfy1BX/lib/python3.8/site-packages (from matplotlib) (2.8.1)\n",
      "Requirement already satisfied: pillow>=6.2.0 in /Users/kellycho/.local/share/virtualenvs/DS-Unit-2-Applied-Modeling-0wMfy1BX/lib/python3.8/site-packages (from matplotlib) (7.2.0)\n",
      "Requirement already satisfied: cycler>=0.10 in /Users/kellycho/.local/share/virtualenvs/DS-Unit-2-Applied-Modeling-0wMfy1BX/lib/python3.8/site-packages (from matplotlib) (0.10.0)\n",
      "Requirement already satisfied: pyparsing!=2.0.4,!=2.1.2,!=2.1.6,>=2.0.3 in /Users/kellycho/.local/share/virtualenvs/DS-Unit-2-Applied-Modeling-0wMfy1BX/lib/python3.8/site-packages (from matplotlib) (2.4.7)\n",
      "Requirement already satisfied: numpy>=1.15 in /Users/kellycho/.local/share/virtualenvs/DS-Unit-2-Applied-Modeling-0wMfy1BX/lib/python3.8/site-packages (from matplotlib) (1.19.1)\n",
      "Requirement already satisfied: kiwisolver>=1.0.1 in /Users/kellycho/.local/share/virtualenvs/DS-Unit-2-Applied-Modeling-0wMfy1BX/lib/python3.8/site-packages (from matplotlib) (1.2.0)\n",
      "Requirement already satisfied: six>=1.5 in /Users/kellycho/.local/share/virtualenvs/DS-Unit-2-Applied-Modeling-0wMfy1BX/lib/python3.8/site-packages (from python-dateutil>=2.1->matplotlib) (1.15.0)\n",
      "Requirement already satisfied: numpy in /Users/kellycho/.local/share/virtualenvs/DS-Unit-2-Applied-Modeling-0wMfy1BX/lib/python3.8/site-packages (1.19.1)\n",
      "Requirement already satisfied: plotly in /Users/kellycho/.local/share/virtualenvs/DS-Unit-2-Applied-Modeling-0wMfy1BX/lib/python3.8/site-packages (4.9.0)\n",
      "Requirement already satisfied: retrying>=1.3.3 in /Users/kellycho/.local/share/virtualenvs/DS-Unit-2-Applied-Modeling-0wMfy1BX/lib/python3.8/site-packages (from plotly) (1.3.3)\n",
      "Requirement already satisfied: six in /Users/kellycho/.local/share/virtualenvs/DS-Unit-2-Applied-Modeling-0wMfy1BX/lib/python3.8/site-packages (from plotly) (1.15.0)\n",
      "\u001b[31mERROR: Could not find a version that satisfies the requirement collections (from versions: none)\u001b[0m\n",
      "\u001b[31mERROR: No matching distribution found for collections\u001b[0m\n",
      "Requirement already satisfied: xgboost in /Users/kellycho/.local/share/virtualenvs/DS-Unit-2-Applied-Modeling-0wMfy1BX/lib/python3.8/site-packages (1.1.1)\n",
      "Requirement already satisfied: numpy in /Users/kellycho/.local/share/virtualenvs/DS-Unit-2-Applied-Modeling-0wMfy1BX/lib/python3.8/site-packages (from xgboost) (1.19.1)\n",
      "Requirement already satisfied: scipy in /Users/kellycho/.local/share/virtualenvs/DS-Unit-2-Applied-Modeling-0wMfy1BX/lib/python3.8/site-packages (from xgboost) (1.5.2)\n"
     ]
    }
   ],
   "source": [
    "# imports\n",
    "import sys\n",
    "!{sys.executable} -m pip install pandas\n",
    "!{sys.executable} -m pip install matplotlib\n",
    "!{sys.executable} -m pip install numpy\n",
    "!{sys.executable} -m pip install plotly\n",
    "\n",
    "!{sys.executable} -m pip install collections\n",
    "!{sys.executable} -m pip install xgboost\n",
    "\n",
    "from collections import namedtuple\n",
    "\n",
    "import pandas as pd\n",
    "import matplotlib.pyplot as plt\n",
    "import numpy as np\n",
    "import plotly.express as px"
   ]
  },
  {
   "cell_type": "code",
   "execution_count": 3,
   "metadata": {},
   "outputs": [
    {
     "data": {
      "text/html": [
       "<div>\n",
       "<style scoped>\n",
       "    .dataframe tbody tr th:only-of-type {\n",
       "        vertical-align: middle;\n",
       "    }\n",
       "\n",
       "    .dataframe tbody tr th {\n",
       "        vertical-align: top;\n",
       "    }\n",
       "\n",
       "    .dataframe thead th {\n",
       "        text-align: right;\n",
       "    }\n",
       "</style>\n",
       "<table border=\"1\" class=\"dataframe\">\n",
       "  <thead>\n",
       "    <tr style=\"text-align: right;\">\n",
       "      <th></th>\n",
       "      <th>Date</th>\n",
       "      <th>Average Viewers</th>\n",
       "      <th>Chat Messages</th>\n",
       "      <th>Chatters</th>\n",
       "      <th>Clip Views</th>\n",
       "      <th>Clips Created</th>\n",
       "      <th>Follows</th>\n",
       "      <th>Hosts and Raids Viewers (%)</th>\n",
       "      <th>Live Views</th>\n",
       "      <th>Max Viewers</th>\n",
       "      <th>...</th>\n",
       "      <th>day_of_week_5</th>\n",
       "      <th>day_of_week_6</th>\n",
       "      <th>day_of_week_7</th>\n",
       "      <th>Total_Sub_Revenue</th>\n",
       "      <th>donations</th>\n",
       "      <th>Total_Earnings</th>\n",
       "      <th>streak</th>\n",
       "      <th>activity</th>\n",
       "      <th>avg_message_per_viewer</th>\n",
       "      <th>user_chatting_percent</th>\n",
       "    </tr>\n",
       "  </thead>\n",
       "  <tbody>\n",
       "    <tr>\n",
       "      <th>0</th>\n",
       "      <td>2017-06-13</td>\n",
       "      <td>2.98</td>\n",
       "      <td>114</td>\n",
       "      <td>6</td>\n",
       "      <td>0</td>\n",
       "      <td>0</td>\n",
       "      <td>1</td>\n",
       "      <td>0.0</td>\n",
       "      <td>11</td>\n",
       "      <td>5</td>\n",
       "      <td>...</td>\n",
       "      <td>0</td>\n",
       "      <td>1</td>\n",
       "      <td>0</td>\n",
       "      <td>0.0</td>\n",
       "      <td>0.0</td>\n",
       "      <td>0.0</td>\n",
       "      <td>1</td>\n",
       "      <td>0.033333</td>\n",
       "      <td>12.666666666666666</td>\n",
       "      <td>66.66666666666666</td>\n",
       "    </tr>\n",
       "    <tr>\n",
       "      <th>1</th>\n",
       "      <td>2017-06-14</td>\n",
       "      <td>3.47</td>\n",
       "      <td>260</td>\n",
       "      <td>9</td>\n",
       "      <td>0</td>\n",
       "      <td>0</td>\n",
       "      <td>2</td>\n",
       "      <td>0.0</td>\n",
       "      <td>35</td>\n",
       "      <td>8</td>\n",
       "      <td>...</td>\n",
       "      <td>0</td>\n",
       "      <td>0</td>\n",
       "      <td>1</td>\n",
       "      <td>0.0</td>\n",
       "      <td>0.0</td>\n",
       "      <td>0.0</td>\n",
       "      <td>2</td>\n",
       "      <td>0.066667</td>\n",
       "      <td>10.0</td>\n",
       "      <td>34.61538461538461</td>\n",
       "    </tr>\n",
       "    <tr>\n",
       "      <th>2</th>\n",
       "      <td>2017-06-15</td>\n",
       "      <td>4.45</td>\n",
       "      <td>40</td>\n",
       "      <td>3</td>\n",
       "      <td>0</td>\n",
       "      <td>0</td>\n",
       "      <td>2</td>\n",
       "      <td>0.0</td>\n",
       "      <td>1</td>\n",
       "      <td>8</td>\n",
       "      <td>...</td>\n",
       "      <td>0</td>\n",
       "      <td>0</td>\n",
       "      <td>0</td>\n",
       "      <td>0.0</td>\n",
       "      <td>0.0</td>\n",
       "      <td>0.0</td>\n",
       "      <td>3</td>\n",
       "      <td>0.100000</td>\n",
       "      <td>40.0</td>\n",
       "      <td>300.0</td>\n",
       "    </tr>\n",
       "    <tr>\n",
       "      <th>3</th>\n",
       "      <td>2017-06-16</td>\n",
       "      <td>3.73</td>\n",
       "      <td>38</td>\n",
       "      <td>5</td>\n",
       "      <td>0</td>\n",
       "      <td>0</td>\n",
       "      <td>2</td>\n",
       "      <td>0.0</td>\n",
       "      <td>17</td>\n",
       "      <td>6</td>\n",
       "      <td>...</td>\n",
       "      <td>0</td>\n",
       "      <td>0</td>\n",
       "      <td>0</td>\n",
       "      <td>0.0</td>\n",
       "      <td>0.0</td>\n",
       "      <td>0.0</td>\n",
       "      <td>4</td>\n",
       "      <td>0.133333</td>\n",
       "      <td>2.923076923076923</td>\n",
       "      <td>38.46153846153847</td>\n",
       "    </tr>\n",
       "    <tr>\n",
       "      <th>4</th>\n",
       "      <td>2017-06-17</td>\n",
       "      <td>3.99</td>\n",
       "      <td>100</td>\n",
       "      <td>8</td>\n",
       "      <td>0</td>\n",
       "      <td>0</td>\n",
       "      <td>0</td>\n",
       "      <td>0.0</td>\n",
       "      <td>16</td>\n",
       "      <td>7</td>\n",
       "      <td>...</td>\n",
       "      <td>0</td>\n",
       "      <td>0</td>\n",
       "      <td>0</td>\n",
       "      <td>0.0</td>\n",
       "      <td>0.0</td>\n",
       "      <td>0.0</td>\n",
       "      <td>5</td>\n",
       "      <td>0.166667</td>\n",
       "      <td>8.333333333333334</td>\n",
       "      <td>66.66666666666666</td>\n",
       "    </tr>\n",
       "  </tbody>\n",
       "</table>\n",
       "<p>5 rows × 43 columns</p>\n",
       "</div>"
      ],
      "text/plain": [
       "        Date  Average Viewers  Chat Messages  Chatters  Clip Views  \\\n",
       "0 2017-06-13             2.98            114         6           0   \n",
       "1 2017-06-14             3.47            260         9           0   \n",
       "2 2017-06-15             4.45             40         3           0   \n",
       "3 2017-06-16             3.73             38         5           0   \n",
       "4 2017-06-17             3.99            100         8           0   \n",
       "\n",
       "   Clips Created  Follows  Hosts and Raids Viewers (%)  Live Views  \\\n",
       "0              0        1                          0.0          11   \n",
       "1              0        2                          0.0          35   \n",
       "2              0        2                          0.0           1   \n",
       "3              0        2                          0.0          17   \n",
       "4              0        0                          0.0          16   \n",
       "\n",
       "   Max Viewers  ...  day_of_week_5  day_of_week_6  day_of_week_7  \\\n",
       "0            5  ...              0              1              0   \n",
       "1            8  ...              0              0              1   \n",
       "2            8  ...              0              0              0   \n",
       "3            6  ...              0              0              0   \n",
       "4            7  ...              0              0              0   \n",
       "\n",
       "   Total_Sub_Revenue  donations  Total_Earnings  streak  activity  \\\n",
       "0                0.0        0.0             0.0       1  0.033333   \n",
       "1                0.0        0.0             0.0       2  0.066667   \n",
       "2                0.0        0.0             0.0       3  0.100000   \n",
       "3                0.0        0.0             0.0       4  0.133333   \n",
       "4                0.0        0.0             0.0       5  0.166667   \n",
       "\n",
       "   avg_message_per_viewer  user_chatting_percent  \n",
       "0      12.666666666666666      66.66666666666666  \n",
       "1                    10.0      34.61538461538461  \n",
       "2                    40.0                  300.0  \n",
       "3       2.923076923076923      38.46153846153847  \n",
       "4       8.333333333333334      66.66666666666666  \n",
       "\n",
       "[5 rows x 43 columns]"
      ]
     },
     "execution_count": 3,
     "metadata": {},
     "output_type": "execute_result"
    }
   ],
   "source": [
    "twitch_df = pd.read_csv(\"twitch_clean_data.csv\", parse_dates=[\"Date\"])\n",
    "twitch_df.head()"
   ]
  },
  {
   "cell_type": "code",
   "execution_count": 4,
   "metadata": {},
   "outputs": [
    {
     "data": {
      "text/plain": [
       "Index(['Date', 'Average Viewers', 'Chat Messages', 'Chatters', 'Clip Views',\n",
       "       'Clips Created', 'Follows', 'Hosts and Raids Viewers (%)', 'Live Views',\n",
       "       'Max Viewers', 'Minutes Watched', 'Minutes Streamed', 'Unique Viewers',\n",
       "       'Sub Revenue', 'Prime Revenue', 'Gifted Subs Revenue', 'Bits Revenue',\n",
       "       'Ad Revenue', 'Extensions Revenue', 'Bounties Revenue', 'Prime Subs',\n",
       "       'Total Paid Subs', 'Tier 1 subs', 'Tier 2 subs', 'Tier 3 subs',\n",
       "       'Total Gifted Subs', 'Gifted Tier 1 subs', 'Gifted Tier 2 subs',\n",
       "       'Gifted Tier 3 subs', 'day_of_week_1', 'day_of_week_2', 'day_of_week_3',\n",
       "       'day_of_week_4', 'day_of_week_5', 'day_of_week_6', 'day_of_week_7',\n",
       "       'Total_Sub_Revenue', 'donations', 'Total_Earnings', 'streak',\n",
       "       'activity', 'avg_message_per_viewer', 'user_chatting_percent'],\n",
       "      dtype='object')"
      ]
     },
     "execution_count": 4,
     "metadata": {},
     "output_type": "execute_result"
    }
   ],
   "source": [
    "twitch_df.columns\n"
   ]
  },
  {
   "cell_type": "code",
   "execution_count": 5,
   "metadata": {},
   "outputs": [
    {
     "data": {
      "text/plain": [
       "Date                           0\n",
       "Average Viewers                0\n",
       "Chat Messages                  0\n",
       "Chatters                       0\n",
       "Clip Views                     0\n",
       "Clips Created                  0\n",
       "Follows                        0\n",
       "Hosts and Raids Viewers (%)    0\n",
       "Live Views                     0\n",
       "Max Viewers                    0\n",
       "Minutes Watched                0\n",
       "Minutes Streamed               0\n",
       "Unique Viewers                 0\n",
       "Sub Revenue                    0\n",
       "Prime Revenue                  0\n",
       "Gifted Subs Revenue            0\n",
       "Bits Revenue                   0\n",
       "Ad Revenue                     0\n",
       "Extensions Revenue             0\n",
       "Bounties Revenue               0\n",
       "Prime Subs                     0\n",
       "Total Paid Subs                0\n",
       "Tier 1 subs                    0\n",
       "Tier 2 subs                    0\n",
       "Tier 3 subs                    0\n",
       "Total Gifted Subs              0\n",
       "Gifted Tier 1 subs             0\n",
       "Gifted Tier 2 subs             0\n",
       "Gifted Tier 3 subs             0\n",
       "day_of_week_1                  0\n",
       "day_of_week_2                  0\n",
       "day_of_week_3                  0\n",
       "day_of_week_4                  0\n",
       "day_of_week_5                  0\n",
       "day_of_week_6                  0\n",
       "day_of_week_7                  0\n",
       "Total_Sub_Revenue              0\n",
       "donations                      0\n",
       "Total_Earnings                 0\n",
       "streak                         0\n",
       "activity                       0\n",
       "avg_message_per_viewer         0\n",
       "user_chatting_percent          0\n",
       "dtype: int64"
      ]
     },
     "execution_count": 5,
     "metadata": {},
     "output_type": "execute_result"
    }
   ],
   "source": [
    "twitch_df.isnull().sum()"
   ]
  },
  {
   "cell_type": "code",
   "execution_count": 6,
   "metadata": {},
   "outputs": [
    {
     "data": {
      "text/plain": [
       "inf                   195\n",
       "Unknown               103\n",
       "0.0                    16\n",
       "5.222222222222222       2\n",
       "6.333333333333333       2\n",
       "                     ... \n",
       "8.29126213592233        1\n",
       "14.310344827586206      1\n",
       "2.090909090909091       1\n",
       "15.092436974789916      1\n",
       "11.519480519480519      1\n",
       "Name: avg_message_per_viewer, Length: 837, dtype: int64"
      ]
     },
     "execution_count": 6,
     "metadata": {},
     "output_type": "execute_result"
    }
   ],
   "source": [
    "twitch_df.avg_message_per_viewer.value_counts()"
   ]
  },
  {
   "cell_type": "code",
   "execution_count": 7,
   "metadata": {},
   "outputs": [
    {
     "data": {
      "text/plain": [
       "inf                   195\n",
       "Unknown               103\n",
       "0.0                    16\n",
       "33.33333333333333      13\n",
       "100.0                   7\n",
       "                     ... \n",
       "26.126126126126124      1\n",
       "51.35135135135135       1\n",
       "33.13253012048193       1\n",
       "34.177215189873415      1\n",
       "19.230769230769234      1\n",
       "Name: user_chatting_percent, Length: 703, dtype: int64"
      ]
     },
     "execution_count": 7,
     "metadata": {},
     "output_type": "execute_result"
    }
   ],
   "source": [
    "twitch_df.user_chatting_percent.value_counts()"
   ]
  },
  {
   "cell_type": "code",
   "execution_count": 8,
   "metadata": {},
   "outputs": [],
   "source": [
    "replace_list = [\"inf\", \"Unknown\"]"
   ]
  },
  {
   "cell_type": "code",
   "execution_count": 9,
   "metadata": {},
   "outputs": [],
   "source": [
    "twitch_original = twitch_df.copy()"
   ]
  },
  {
   "cell_type": "code",
   "execution_count": 10,
   "metadata": {},
   "outputs": [],
   "source": [
    "twitch_df= twitch_df.replace(to_replace=replace_list, value=0)"
   ]
  },
  {
   "cell_type": "code",
   "execution_count": 11,
   "metadata": {},
   "outputs": [
    {
     "data": {
      "text/plain": [
       "0                     298\n",
       "0.0                    16\n",
       "33.33333333333333      13\n",
       "66.66666666666666       7\n",
       "100.0                   7\n",
       "                     ... \n",
       "26.126126126126124      1\n",
       "51.35135135135135       1\n",
       "33.13253012048193       1\n",
       "34.177215189873415      1\n",
       "31.901840490797547      1\n",
       "Name: user_chatting_percent, Length: 702, dtype: int64"
      ]
     },
     "execution_count": 11,
     "metadata": {},
     "output_type": "execute_result"
    }
   ],
   "source": [
    "twitch_df.user_chatting_percent.value_counts()"
   ]
  },
  {
   "cell_type": "code",
   "execution_count": 12,
   "metadata": {},
   "outputs": [],
   "source": [
    "twitch_df[\"user_chatting_percent\"]= twitch_df[\"user_chatting_percent\"].astype(str).astype(float)"
   ]
  },
  {
   "cell_type": "code",
   "execution_count": 13,
   "metadata": {},
   "outputs": [],
   "source": [
    "twitch_df[\"avg_message_per_viewer\"]= twitch_df[\"avg_message_per_viewer\"].astype(str).astype(float)"
   ]
  },
  {
   "cell_type": "code",
   "execution_count": 14,
   "metadata": {},
   "outputs": [
    {
     "name": "stdout",
     "output_type": "stream",
     "text": [
      "<class 'pandas.core.frame.DataFrame'>\n",
      "RangeIndex: 1159 entries, 0 to 1158\n",
      "Data columns (total 43 columns):\n",
      " #   Column                       Non-Null Count  Dtype         \n",
      "---  ------                       --------------  -----         \n",
      " 0   Date                         1159 non-null   datetime64[ns]\n",
      " 1   Average Viewers              1159 non-null   float64       \n",
      " 2   Chat Messages                1159 non-null   int64         \n",
      " 3   Chatters                     1159 non-null   int64         \n",
      " 4   Clip Views                   1159 non-null   int64         \n",
      " 5   Clips Created                1159 non-null   int64         \n",
      " 6   Follows                      1159 non-null   int64         \n",
      " 7   Hosts and Raids Viewers (%)  1159 non-null   float64       \n",
      " 8   Live Views                   1159 non-null   int64         \n",
      " 9   Max Viewers                  1159 non-null   int64         \n",
      " 10  Minutes Watched              1159 non-null   int64         \n",
      " 11  Minutes Streamed             1159 non-null   int64         \n",
      " 12  Unique Viewers               1159 non-null   int64         \n",
      " 13  Sub Revenue                  1159 non-null   float64       \n",
      " 14  Prime Revenue                1159 non-null   float64       \n",
      " 15  Gifted Subs Revenue          1159 non-null   float64       \n",
      " 16  Bits Revenue                 1159 non-null   float64       \n",
      " 17  Ad Revenue                   1159 non-null   float64       \n",
      " 18  Extensions Revenue           1159 non-null   float64       \n",
      " 19  Bounties Revenue             1159 non-null   int64         \n",
      " 20  Prime Subs                   1159 non-null   int64         \n",
      " 21  Total Paid Subs              1159 non-null   int64         \n",
      " 22  Tier 1 subs                  1159 non-null   int64         \n",
      " 23  Tier 2 subs                  1159 non-null   int64         \n",
      " 24  Tier 3 subs                  1159 non-null   int64         \n",
      " 25  Total Gifted Subs            1159 non-null   int64         \n",
      " 26  Gifted Tier 1 subs           1159 non-null   int64         \n",
      " 27  Gifted Tier 2 subs           1159 non-null   int64         \n",
      " 28  Gifted Tier 3 subs           1159 non-null   int64         \n",
      " 29  day_of_week_1                1159 non-null   int64         \n",
      " 30  day_of_week_2                1159 non-null   int64         \n",
      " 31  day_of_week_3                1159 non-null   int64         \n",
      " 32  day_of_week_4                1159 non-null   int64         \n",
      " 33  day_of_week_5                1159 non-null   int64         \n",
      " 34  day_of_week_6                1159 non-null   int64         \n",
      " 35  day_of_week_7                1159 non-null   int64         \n",
      " 36  Total_Sub_Revenue            1159 non-null   float64       \n",
      " 37  donations                    1159 non-null   float64       \n",
      " 38  Total_Earnings               1159 non-null   float64       \n",
      " 39  streak                       1159 non-null   int64         \n",
      " 40  activity                     1159 non-null   float64       \n",
      " 41  avg_message_per_viewer       1159 non-null   float64       \n",
      " 42  user_chatting_percent        1159 non-null   float64       \n",
      "dtypes: datetime64[ns](1), float64(14), int64(28)\n",
      "memory usage: 389.5 KB\n"
     ]
    }
   ],
   "source": [
    "twitch_df.info()"
   ]
  },
  {
   "cell_type": "code",
   "execution_count": 15,
   "metadata": {},
   "outputs": [],
   "source": [
    "twitch_df = twitch_df.set_index(keys=\"Date\")"
   ]
  },
  {
   "cell_type": "code",
   "execution_count": 16,
   "metadata": {},
   "outputs": [
    {
     "data": {
      "text/html": [
       "<div>\n",
       "<style scoped>\n",
       "    .dataframe tbody tr th:only-of-type {\n",
       "        vertical-align: middle;\n",
       "    }\n",
       "\n",
       "    .dataframe tbody tr th {\n",
       "        vertical-align: top;\n",
       "    }\n",
       "\n",
       "    .dataframe thead th {\n",
       "        text-align: right;\n",
       "    }\n",
       "</style>\n",
       "<table border=\"1\" class=\"dataframe\">\n",
       "  <thead>\n",
       "    <tr style=\"text-align: right;\">\n",
       "      <th></th>\n",
       "      <th>Average Viewers</th>\n",
       "      <th>Chat Messages</th>\n",
       "      <th>Chatters</th>\n",
       "      <th>Clip Views</th>\n",
       "      <th>Clips Created</th>\n",
       "      <th>Follows</th>\n",
       "      <th>Hosts and Raids Viewers (%)</th>\n",
       "      <th>Live Views</th>\n",
       "      <th>Max Viewers</th>\n",
       "      <th>Minutes Watched</th>\n",
       "      <th>...</th>\n",
       "      <th>day_of_week_5</th>\n",
       "      <th>day_of_week_6</th>\n",
       "      <th>day_of_week_7</th>\n",
       "      <th>Total_Sub_Revenue</th>\n",
       "      <th>donations</th>\n",
       "      <th>Total_Earnings</th>\n",
       "      <th>streak</th>\n",
       "      <th>activity</th>\n",
       "      <th>avg_message_per_viewer</th>\n",
       "      <th>user_chatting_percent</th>\n",
       "    </tr>\n",
       "    <tr>\n",
       "      <th>Date</th>\n",
       "      <th></th>\n",
       "      <th></th>\n",
       "      <th></th>\n",
       "      <th></th>\n",
       "      <th></th>\n",
       "      <th></th>\n",
       "      <th></th>\n",
       "      <th></th>\n",
       "      <th></th>\n",
       "      <th></th>\n",
       "      <th></th>\n",
       "      <th></th>\n",
       "      <th></th>\n",
       "      <th></th>\n",
       "      <th></th>\n",
       "      <th></th>\n",
       "      <th></th>\n",
       "      <th></th>\n",
       "      <th></th>\n",
       "      <th></th>\n",
       "      <th></th>\n",
       "    </tr>\n",
       "  </thead>\n",
       "  <tbody>\n",
       "    <tr>\n",
       "      <th>2017-06-13</th>\n",
       "      <td>2.98</td>\n",
       "      <td>114</td>\n",
       "      <td>6</td>\n",
       "      <td>0</td>\n",
       "      <td>0</td>\n",
       "      <td>1</td>\n",
       "      <td>0.0</td>\n",
       "      <td>11</td>\n",
       "      <td>5</td>\n",
       "      <td>480</td>\n",
       "      <td>...</td>\n",
       "      <td>0</td>\n",
       "      <td>1</td>\n",
       "      <td>0</td>\n",
       "      <td>0.0</td>\n",
       "      <td>0.0</td>\n",
       "      <td>0.0</td>\n",
       "      <td>1</td>\n",
       "      <td>0.033333</td>\n",
       "      <td>12.666667</td>\n",
       "      <td>66.666667</td>\n",
       "    </tr>\n",
       "    <tr>\n",
       "      <th>2017-06-14</th>\n",
       "      <td>3.47</td>\n",
       "      <td>260</td>\n",
       "      <td>9</td>\n",
       "      <td>0</td>\n",
       "      <td>0</td>\n",
       "      <td>2</td>\n",
       "      <td>0.0</td>\n",
       "      <td>35</td>\n",
       "      <td>8</td>\n",
       "      <td>653</td>\n",
       "      <td>...</td>\n",
       "      <td>0</td>\n",
       "      <td>0</td>\n",
       "      <td>1</td>\n",
       "      <td>0.0</td>\n",
       "      <td>0.0</td>\n",
       "      <td>0.0</td>\n",
       "      <td>2</td>\n",
       "      <td>0.066667</td>\n",
       "      <td>10.000000</td>\n",
       "      <td>34.615385</td>\n",
       "    </tr>\n",
       "    <tr>\n",
       "      <th>2017-06-15</th>\n",
       "      <td>4.45</td>\n",
       "      <td>40</td>\n",
       "      <td>3</td>\n",
       "      <td>0</td>\n",
       "      <td>0</td>\n",
       "      <td>2</td>\n",
       "      <td>0.0</td>\n",
       "      <td>1</td>\n",
       "      <td>8</td>\n",
       "      <td>89</td>\n",
       "      <td>...</td>\n",
       "      <td>0</td>\n",
       "      <td>0</td>\n",
       "      <td>0</td>\n",
       "      <td>0.0</td>\n",
       "      <td>0.0</td>\n",
       "      <td>0.0</td>\n",
       "      <td>3</td>\n",
       "      <td>0.100000</td>\n",
       "      <td>40.000000</td>\n",
       "      <td>300.000000</td>\n",
       "    </tr>\n",
       "    <tr>\n",
       "      <th>2017-06-16</th>\n",
       "      <td>3.73</td>\n",
       "      <td>38</td>\n",
       "      <td>5</td>\n",
       "      <td>0</td>\n",
       "      <td>0</td>\n",
       "      <td>2</td>\n",
       "      <td>0.0</td>\n",
       "      <td>17</td>\n",
       "      <td>6</td>\n",
       "      <td>421</td>\n",
       "      <td>...</td>\n",
       "      <td>0</td>\n",
       "      <td>0</td>\n",
       "      <td>0</td>\n",
       "      <td>0.0</td>\n",
       "      <td>0.0</td>\n",
       "      <td>0.0</td>\n",
       "      <td>4</td>\n",
       "      <td>0.133333</td>\n",
       "      <td>2.923077</td>\n",
       "      <td>38.461538</td>\n",
       "    </tr>\n",
       "    <tr>\n",
       "      <th>2017-06-17</th>\n",
       "      <td>3.99</td>\n",
       "      <td>100</td>\n",
       "      <td>8</td>\n",
       "      <td>0</td>\n",
       "      <td>0</td>\n",
       "      <td>0</td>\n",
       "      <td>0.0</td>\n",
       "      <td>16</td>\n",
       "      <td>7</td>\n",
       "      <td>591</td>\n",
       "      <td>...</td>\n",
       "      <td>0</td>\n",
       "      <td>0</td>\n",
       "      <td>0</td>\n",
       "      <td>0.0</td>\n",
       "      <td>0.0</td>\n",
       "      <td>0.0</td>\n",
       "      <td>5</td>\n",
       "      <td>0.166667</td>\n",
       "      <td>8.333333</td>\n",
       "      <td>66.666667</td>\n",
       "    </tr>\n",
       "  </tbody>\n",
       "</table>\n",
       "<p>5 rows × 42 columns</p>\n",
       "</div>"
      ],
      "text/plain": [
       "            Average Viewers  Chat Messages  Chatters  Clip Views  \\\n",
       "Date                                                               \n",
       "2017-06-13             2.98            114         6           0   \n",
       "2017-06-14             3.47            260         9           0   \n",
       "2017-06-15             4.45             40         3           0   \n",
       "2017-06-16             3.73             38         5           0   \n",
       "2017-06-17             3.99            100         8           0   \n",
       "\n",
       "            Clips Created  Follows  Hosts and Raids Viewers (%)  Live Views  \\\n",
       "Date                                                                          \n",
       "2017-06-13              0        1                          0.0          11   \n",
       "2017-06-14              0        2                          0.0          35   \n",
       "2017-06-15              0        2                          0.0           1   \n",
       "2017-06-16              0        2                          0.0          17   \n",
       "2017-06-17              0        0                          0.0          16   \n",
       "\n",
       "            Max Viewers  Minutes Watched  ...  day_of_week_5  day_of_week_6  \\\n",
       "Date                                      ...                                 \n",
       "2017-06-13            5              480  ...              0              1   \n",
       "2017-06-14            8              653  ...              0              0   \n",
       "2017-06-15            8               89  ...              0              0   \n",
       "2017-06-16            6              421  ...              0              0   \n",
       "2017-06-17            7              591  ...              0              0   \n",
       "\n",
       "            day_of_week_7  Total_Sub_Revenue  donations  Total_Earnings  \\\n",
       "Date                                                                      \n",
       "2017-06-13              0                0.0        0.0             0.0   \n",
       "2017-06-14              1                0.0        0.0             0.0   \n",
       "2017-06-15              0                0.0        0.0             0.0   \n",
       "2017-06-16              0                0.0        0.0             0.0   \n",
       "2017-06-17              0                0.0        0.0             0.0   \n",
       "\n",
       "            streak  activity  avg_message_per_viewer  user_chatting_percent  \n",
       "Date                                                                         \n",
       "2017-06-13       1  0.033333               12.666667              66.666667  \n",
       "2017-06-14       2  0.066667               10.000000              34.615385  \n",
       "2017-06-15       3  0.100000               40.000000             300.000000  \n",
       "2017-06-16       4  0.133333                2.923077              38.461538  \n",
       "2017-06-17       5  0.166667                8.333333              66.666667  \n",
       "\n",
       "[5 rows x 42 columns]"
      ]
     },
     "execution_count": 16,
     "metadata": {},
     "output_type": "execute_result"
    }
   ],
   "source": [
    "twitch_df.head()"
   ]
  },
  {
   "cell_type": "code",
   "execution_count": null,
   "metadata": {},
   "outputs": [],
   "source": []
  },
  {
   "cell_type": "code",
   "execution_count": 17,
   "metadata": {},
   "outputs": [
    {
     "data": {
      "image/png": "[encoded data removed]",
      "text/plain": [
       "<Figure size 432x288 with 1 Axes>"
      ]
     },
     "metadata": {
      "needs_background": "light"
     },
     "output_type": "display_data"
    }
   ],
   "source": [
    "twitch_df['Total_Earnings'].hist(bins=50);"
   ]
  },
  {
   "cell_type": "code",
   "execution_count": 18,
   "metadata": {},
   "outputs": [
    {
     "data": {
      "text/plain": [
       "19.597481449525453"
      ]
     },
     "execution_count": 18,
     "metadata": {},
     "output_type": "execute_result"
    }
   ],
   "source": [
    "# lets get an average sales price\n",
    "guess_price = twitch_df['Total_Earnings'].mean()\n",
    "guess_price"
   ]
  },
  {
   "cell_type": "code",
   "execution_count": 19,
   "metadata": {},
   "outputs": [],
   "source": [
    "# make function that will do it for us\n",
    "def get_naive_baseline(target_feature):\n",
    "  guess = target_feature.mean()\n",
    "  errors = guess - target_feature\n",
    "  mean_absolute_error = errors.abs().mean()\n",
    "\n",
    "  naive_baseline = namedtuple(\"baseline_info\", [\"guess\", \"errors\", \"MAE\"])\n",
    "\n",
    "  return naive_baseline(guess, errors, mean_absolute_error)"
   ]
  },
  {
   "cell_type": "code",
   "execution_count": 20,
   "metadata": {},
   "outputs": [],
   "source": [
    "nbaseline = get_naive_baseline(twitch_df['Total_Earnings'])"
   ]
  },
  {
   "cell_type": "code",
   "execution_count": 21,
   "metadata": {},
   "outputs": [],
   "source": [
    "y_target = twitch_df['Total_Earnings']"
   ]
  },
  {
   "cell_type": "code",
   "execution_count": 22,
   "metadata": {},
   "outputs": [
    {
     "name": "stdout",
     "output_type": "stream",
     "text": [
      "If we estimated Total Earnings at $19.597481449525453,\n",
      "we would be off by $24.54002158371927 on average.\n"
     ]
    }
   ],
   "source": [
    "print(f\"If we estimated Total Earnings at ${nbaseline.guess},\")\n",
    "print(f\"we would be off by ${nbaseline.MAE} on average.\")"
   ]
  },
  {
   "cell_type": "code",
   "execution_count": 23,
   "metadata": {},
   "outputs": [
    {
     "data": {
      "text/plain": [
       "0"
      ]
     },
     "execution_count": 23,
     "metadata": {},
     "output_type": "execute_result"
    }
   ],
   "source": [
    "twitch_df[\"avg_message_per_viewer\"].isnull().sum()"
   ]
  },
  {
   "cell_type": "code",
   "execution_count": 24,
   "metadata": {},
   "outputs": [
    {
     "name": "stdout",
     "output_type": "stream",
     "text": [
      "19.597481449525453\n",
      "24.54002158371927\n",
      "(1159,)\n"
     ]
    }
   ],
   "source": [
    "print(nbaseline.guess)\n",
    "print(nbaseline.MAE)\n",
    "print(nbaseline.errors.shape)"
   ]
  },
  {
   "cell_type": "code",
   "execution_count": 25,
   "metadata": {},
   "outputs": [],
   "source": [
    "# # make function that will do it for us\n",
    "# def get_naive_baseline(target_feature):\n",
    "#   guess = target_feature.mean()\n",
    "#   errors = guess - target_feature\n",
    "#   mean_absolute_error = errors.abs().mean()\n",
    "\n",
    "# #   y_pred = [target_feature.mean()] * len(target_feature.iloc[:,0])\n",
    "#   r2 = r2_score(target_feature, y_pred)\n",
    "\n",
    "#   naive_baseline = namedtuple(\"baseline_info\", [\"guess\", \"errors\", \"MAE\", \"R2\"])\n",
    "\n",
    "#   return naive_baseline(guess, errors, mean_absolute_error, r2)"
   ]
  },
  {
   "cell_type": "code",
   "execution_count": 26,
   "metadata": {},
   "outputs": [],
   "source": [
    "nbaseline = get_naive_baseline(twitch_df['Total_Earnings'])"
   ]
  },
  {
   "cell_type": "code",
   "execution_count": 27,
   "metadata": {},
   "outputs": [
    {
     "data": {
      "text/plain": [
       "baseline_info(guess=19.597481449525453, errors=Date\n",
       "2017-06-13    19.597481\n",
       "2017-06-14    19.597481\n",
       "2017-06-15    19.597481\n",
       "2017-06-16    19.597481\n",
       "2017-06-17    19.597481\n",
       "                ...    \n",
       "2020-08-10    17.142481\n",
       "2020-08-11    19.597481\n",
       "2020-08-12    17.196981\n",
       "2020-08-13    13.936981\n",
       "2020-08-14    16.137481\n",
       "Name: Total_Earnings, Length: 1159, dtype: float64, MAE=24.54002158371927)"
      ]
     },
     "execution_count": 27,
     "metadata": {},
     "output_type": "execute_result"
    }
   ],
   "source": [
    "nbaseline"
   ]
  },
  {
   "cell_type": "code",
   "execution_count": null,
   "metadata": {},
   "outputs": [],
   "source": []
  },
  {
   "cell_type": "code",
   "execution_count": 28,
   "metadata": {},
   "outputs": [
    {
     "data": {
      "text/plain": [
       "19.597481449525453"
      ]
     },
     "execution_count": 28,
     "metadata": {},
     "output_type": "execute_result"
    }
   ],
   "source": [
    "twitch_df['Total_Earnings'].mean()"
   ]
  },
  {
   "cell_type": "code",
   "execution_count": 29,
   "metadata": {},
   "outputs": [
    {
     "data": {
      "text/plain": [
       "Date\n",
       "2017-06-13      0.000000\n",
       "2017-06-14      0.000000\n",
       "2017-06-15      0.000000\n",
       "2017-06-16      0.000000\n",
       "2017-06-17      0.000000\n",
       "                 ...    \n",
       "2020-08-10     48.111817\n",
       "2020-08-11      0.000000\n",
       "2020-08-12     47.043754\n",
       "2020-08-13    110.931544\n",
       "2020-08-14     67.807286\n",
       "Name: Total_Earnings, Length: 1159, dtype: float64"
      ]
     },
     "execution_count": 29,
     "metadata": {},
     "output_type": "execute_result"
    }
   ],
   "source": [
    "a= twitch_df['Total_Earnings'] *twitch_df['Total_Earnings'].mean()\n",
    "a"
   ]
  },
  {
   "cell_type": "code",
   "execution_count": null,
   "metadata": {},
   "outputs": [],
   "source": []
  },
  {
   "cell_type": "code",
   "execution_count": null,
   "metadata": {},
   "outputs": [],
   "source": []
  },
  {
   "cell_type": "code",
   "execution_count": 30,
   "metadata": {},
   "outputs": [
    {
     "data": {
      "text/plain": [
       "[19.597481449525453,\n",
       " 19.597481449525453,\n",
       " 19.597481449525453,\n",
       " 19.597481449525453,\n",
       " 19.597481449525453,\n",
       " 19.597481449525453,\n",
       " 19.597481449525453,\n",
       " 19.597481449525453,\n",
       " 19.597481449525453,\n",
       " 19.597481449525453,\n",
       " 19.597481449525453,\n",
       " 19.597481449525453,\n",
       " 19.597481449525453,\n",
       " 19.597481449525453,\n",
       " 19.597481449525453,\n",
       " 19.597481449525453,\n",
       " 19.597481449525453,\n",
       " 19.597481449525453,\n",
       " 19.597481449525453,\n",
       " 19.597481449525453,\n",
       " 19.597481449525453,\n",
       " 19.597481449525453,\n",
       " 19.597481449525453,\n",
       " 19.597481449525453,\n",
       " 19.597481449525453,\n",
       " 19.597481449525453,\n",
       " 19.597481449525453,\n",
       " 19.597481449525453,\n",
       " 19.597481449525453,\n",
       " 19.597481449525453,\n",
       " 19.597481449525453,\n",
       " 19.597481449525453,\n",
       " 19.597481449525453,\n",
       " 19.597481449525453,\n",
       " 19.597481449525453,\n",
       " 19.597481449525453,\n",
       " 19.597481449525453,\n",
       " 19.597481449525453,\n",
       " 19.597481449525453,\n",
       " 19.597481449525453,\n",
       " 19.597481449525453,\n",
       " 19.597481449525453,\n",
       " 19.597481449525453,\n",
       " 19.597481449525453,\n",
       " 19.597481449525453,\n",
       " 19.597481449525453,\n",
       " 19.597481449525453,\n",
       " 19.597481449525453,\n",
       " 19.597481449525453,\n",
       " 19.597481449525453,\n",
       " 19.597481449525453,\n",
       " 19.597481449525453,\n",
       " 19.597481449525453,\n",
       " 19.597481449525453,\n",
       " 19.597481449525453,\n",
       " 19.597481449525453,\n",
       " 19.597481449525453,\n",
       " 19.597481449525453,\n",
       " 19.597481449525453,\n",
       " 19.597481449525453,\n",
       " 19.597481449525453,\n",
       " 19.597481449525453,\n",
       " 19.597481449525453,\n",
       " 19.597481449525453,\n",
       " 19.597481449525453,\n",
       " 19.597481449525453,\n",
       " 19.597481449525453,\n",
       " 19.597481449525453,\n",
       " 19.597481449525453,\n",
       " 19.597481449525453,\n",
       " 19.597481449525453,\n",
       " 19.597481449525453,\n",
       " 19.597481449525453,\n",
       " 19.597481449525453,\n",
       " 19.597481449525453,\n",
       " 19.597481449525453,\n",
       " 19.597481449525453,\n",
       " 19.597481449525453,\n",
       " 19.597481449525453,\n",
       " 19.597481449525453,\n",
       " 19.597481449525453,\n",
       " 19.597481449525453,\n",
       " 19.597481449525453,\n",
       " 19.597481449525453,\n",
       " 19.597481449525453,\n",
       " 19.597481449525453,\n",
       " 19.597481449525453,\n",
       " 19.597481449525453,\n",
       " 19.597481449525453,\n",
       " 19.597481449525453,\n",
       " 19.597481449525453,\n",
       " 19.597481449525453,\n",
       " 19.597481449525453,\n",
       " 19.597481449525453,\n",
       " 19.597481449525453,\n",
       " 19.597481449525453,\n",
       " 19.597481449525453,\n",
       " 19.597481449525453,\n",
       " 19.597481449525453,\n",
       " 19.597481449525453,\n",
       " 19.597481449525453,\n",
       " 19.597481449525453,\n",
       " 19.597481449525453,\n",
       " 19.597481449525453,\n",
       " 19.597481449525453,\n",
       " 19.597481449525453,\n",
       " 19.597481449525453,\n",
       " 19.597481449525453,\n",
       " 19.597481449525453,\n",
       " 19.597481449525453,\n",
       " 19.597481449525453,\n",
       " 19.597481449525453,\n",
       " 19.597481449525453,\n",
       " 19.597481449525453,\n",
       " 19.597481449525453,\n",
       " 19.597481449525453,\n",
       " 19.597481449525453,\n",
       " 19.597481449525453,\n",
       " 19.597481449525453,\n",
       " 19.597481449525453,\n",
       " 19.597481449525453,\n",
       " 19.597481449525453,\n",
       " 19.597481449525453,\n",
       " 19.597481449525453,\n",
       " 19.597481449525453,\n",
       " 19.597481449525453,\n",
       " 19.597481449525453,\n",
       " 19.597481449525453,\n",
       " 19.597481449525453,\n",
       " 19.597481449525453,\n",
       " 19.597481449525453,\n",
       " 19.597481449525453,\n",
       " 19.597481449525453,\n",
       " 19.597481449525453,\n",
       " 19.597481449525453,\n",
       " 19.597481449525453,\n",
       " 19.597481449525453,\n",
       " 19.597481449525453,\n",
       " 19.597481449525453,\n",
       " 19.597481449525453,\n",
       " 19.597481449525453,\n",
       " 19.597481449525453,\n",
       " 19.597481449525453,\n",
       " 19.597481449525453,\n",
       " 19.597481449525453,\n",
       " 19.597481449525453,\n",
       " 19.597481449525453,\n",
       " 19.597481449525453,\n",
       " 19.597481449525453,\n",
       " 19.597481449525453,\n",
       " 19.597481449525453,\n",
       " 19.597481449525453,\n",
       " 19.597481449525453,\n",
       " 19.597481449525453,\n",
       " 19.597481449525453,\n",
       " 19.597481449525453,\n",
       " 19.597481449525453,\n",
       " 19.597481449525453,\n",
       " 19.597481449525453,\n",
       " 19.597481449525453,\n",
       " 19.597481449525453,\n",
       " 19.597481449525453,\n",
       " 19.597481449525453,\n",
       " 19.597481449525453,\n",
       " 19.597481449525453,\n",
       " 19.597481449525453,\n",
       " 19.597481449525453,\n",
       " 19.597481449525453,\n",
       " 19.597481449525453,\n",
       " 19.597481449525453,\n",
       " 19.597481449525453,\n",
       " 19.597481449525453,\n",
       " 19.597481449525453,\n",
       " 19.597481449525453,\n",
       " 19.597481449525453,\n",
       " 19.597481449525453,\n",
       " 19.597481449525453,\n",
       " 19.597481449525453,\n",
       " 19.597481449525453,\n",
       " 19.597481449525453,\n",
       " 19.597481449525453,\n",
       " 19.597481449525453,\n",
       " 19.597481449525453,\n",
       " 19.597481449525453,\n",
       " 19.597481449525453,\n",
       " 19.597481449525453,\n",
       " 19.597481449525453,\n",
       " 19.597481449525453,\n",
       " 19.597481449525453,\n",
       " 19.597481449525453,\n",
       " 19.597481449525453,\n",
       " 19.597481449525453,\n",
       " 19.597481449525453,\n",
       " 19.597481449525453,\n",
       " 19.597481449525453,\n",
       " 19.597481449525453,\n",
       " 19.597481449525453,\n",
       " 19.597481449525453,\n",
       " 19.597481449525453,\n",
       " 19.597481449525453,\n",
       " 19.597481449525453,\n",
       " 19.597481449525453,\n",
       " 19.597481449525453,\n",
       " 19.597481449525453,\n",
       " 19.597481449525453,\n",
       " 19.597481449525453,\n",
       " 19.597481449525453,\n",
       " 19.597481449525453,\n",
       " 19.597481449525453,\n",
       " 19.597481449525453,\n",
       " 19.597481449525453,\n",
       " 19.597481449525453,\n",
       " 19.597481449525453,\n",
       " 19.597481449525453,\n",
       " 19.597481449525453,\n",
       " 19.597481449525453,\n",
       " 19.597481449525453,\n",
       " 19.597481449525453,\n",
       " 19.597481449525453,\n",
       " 19.597481449525453,\n",
       " 19.597481449525453,\n",
       " 19.597481449525453,\n",
       " 19.597481449525453,\n",
       " 19.597481449525453,\n",
       " 19.597481449525453,\n",
       " 19.597481449525453,\n",
       " 19.597481449525453,\n",
       " 19.597481449525453,\n",
       " 19.597481449525453,\n",
       " 19.597481449525453,\n",
       " 19.597481449525453,\n",
       " 19.597481449525453,\n",
       " 19.597481449525453,\n",
       " 19.597481449525453,\n",
       " 19.597481449525453,\n",
       " 19.597481449525453,\n",
       " 19.597481449525453,\n",
       " 19.597481449525453,\n",
       " 19.597481449525453,\n",
       " 19.597481449525453,\n",
       " 19.597481449525453,\n",
       " 19.597481449525453,\n",
       " 19.597481449525453,\n",
       " 19.597481449525453,\n",
       " 19.597481449525453,\n",
       " 19.597481449525453,\n",
       " 19.597481449525453,\n",
       " 19.597481449525453,\n",
       " 19.597481449525453,\n",
       " 19.597481449525453,\n",
       " 19.597481449525453,\n",
       " 19.597481449525453,\n",
       " 19.597481449525453,\n",
       " 19.597481449525453,\n",
       " 19.597481449525453,\n",
       " 19.597481449525453,\n",
       " 19.597481449525453,\n",
       " 19.597481449525453,\n",
       " 19.597481449525453,\n",
       " 19.597481449525453,\n",
       " 19.597481449525453,\n",
       " 19.597481449525453,\n",
       " 19.597481449525453,\n",
       " 19.597481449525453,\n",
       " 19.597481449525453,\n",
       " 19.597481449525453,\n",
       " 19.597481449525453,\n",
       " 19.597481449525453,\n",
       " 19.597481449525453,\n",
       " 19.597481449525453,\n",
       " 19.597481449525453,\n",
       " 19.597481449525453,\n",
       " 19.597481449525453,\n",
       " 19.597481449525453,\n",
       " 19.597481449525453,\n",
       " 19.597481449525453,\n",
       " 19.597481449525453,\n",
       " 19.597481449525453,\n",
       " 19.597481449525453,\n",
       " 19.597481449525453,\n",
       " 19.597481449525453,\n",
       " 19.597481449525453,\n",
       " 19.597481449525453,\n",
       " 19.597481449525453,\n",
       " 19.597481449525453,\n",
       " 19.597481449525453,\n",
       " 19.597481449525453,\n",
       " 19.597481449525453,\n",
       " 19.597481449525453,\n",
       " 19.597481449525453,\n",
       " 19.597481449525453,\n",
       " 19.597481449525453,\n",
       " 19.597481449525453,\n",
       " 19.597481449525453,\n",
       " 19.597481449525453,\n",
       " 19.597481449525453,\n",
       " 19.597481449525453,\n",
       " 19.597481449525453,\n",
       " 19.597481449525453,\n",
       " 19.597481449525453,\n",
       " 19.597481449525453,\n",
       " 19.597481449525453,\n",
       " 19.597481449525453,\n",
       " 19.597481449525453,\n",
       " 19.597481449525453,\n",
       " 19.597481449525453,\n",
       " 19.597481449525453,\n",
       " 19.597481449525453,\n",
       " 19.597481449525453,\n",
       " 19.597481449525453,\n",
       " 19.597481449525453,\n",
       " 19.597481449525453,\n",
       " 19.597481449525453,\n",
       " 19.597481449525453,\n",
       " 19.597481449525453,\n",
       " 19.597481449525453,\n",
       " 19.597481449525453,\n",
       " 19.597481449525453,\n",
       " 19.597481449525453,\n",
       " 19.597481449525453,\n",
       " 19.597481449525453,\n",
       " 19.597481449525453,\n",
       " 19.597481449525453,\n",
       " 19.597481449525453,\n",
       " 19.597481449525453,\n",
       " 19.597481449525453,\n",
       " 19.597481449525453,\n",
       " 19.597481449525453,\n",
       " 19.597481449525453,\n",
       " 19.597481449525453,\n",
       " 19.597481449525453,\n",
       " 19.597481449525453,\n",
       " 19.597481449525453,\n",
       " 19.597481449525453,\n",
       " 19.597481449525453,\n",
       " 19.597481449525453,\n",
       " 19.597481449525453,\n",
       " 19.597481449525453,\n",
       " 19.597481449525453,\n",
       " 19.597481449525453,\n",
       " 19.597481449525453,\n",
       " 19.597481449525453,\n",
       " 19.597481449525453,\n",
       " 19.597481449525453,\n",
       " 19.597481449525453,\n",
       " 19.597481449525453,\n",
       " 19.597481449525453,\n",
       " 19.597481449525453,\n",
       " 19.597481449525453,\n",
       " 19.597481449525453,\n",
       " 19.597481449525453,\n",
       " 19.597481449525453,\n",
       " 19.597481449525453,\n",
       " 19.597481449525453,\n",
       " 19.597481449525453,\n",
       " 19.597481449525453,\n",
       " 19.597481449525453,\n",
       " 19.597481449525453,\n",
       " 19.597481449525453,\n",
       " 19.597481449525453,\n",
       " 19.597481449525453,\n",
       " 19.597481449525453,\n",
       " 19.597481449525453,\n",
       " 19.597481449525453,\n",
       " 19.597481449525453,\n",
       " 19.597481449525453,\n",
       " 19.597481449525453,\n",
       " 19.597481449525453,\n",
       " 19.597481449525453,\n",
       " 19.597481449525453,\n",
       " 19.597481449525453,\n",
       " 19.597481449525453,\n",
       " 19.597481449525453,\n",
       " 19.597481449525453,\n",
       " 19.597481449525453,\n",
       " 19.597481449525453,\n",
       " 19.597481449525453,\n",
       " 19.597481449525453,\n",
       " 19.597481449525453,\n",
       " 19.597481449525453,\n",
       " 19.597481449525453,\n",
       " 19.597481449525453,\n",
       " 19.597481449525453,\n",
       " 19.597481449525453,\n",
       " 19.597481449525453,\n",
       " 19.597481449525453,\n",
       " 19.597481449525453,\n",
       " 19.597481449525453,\n",
       " 19.597481449525453,\n",
       " 19.597481449525453,\n",
       " 19.597481449525453,\n",
       " 19.597481449525453,\n",
       " 19.597481449525453,\n",
       " 19.597481449525453,\n",
       " 19.597481449525453,\n",
       " 19.597481449525453,\n",
       " 19.597481449525453,\n",
       " 19.597481449525453,\n",
       " 19.597481449525453,\n",
       " 19.597481449525453,\n",
       " 19.597481449525453,\n",
       " 19.597481449525453,\n",
       " 19.597481449525453,\n",
       " 19.597481449525453,\n",
       " 19.597481449525453,\n",
       " 19.597481449525453,\n",
       " 19.597481449525453,\n",
       " 19.597481449525453,\n",
       " 19.597481449525453,\n",
       " 19.597481449525453,\n",
       " 19.597481449525453,\n",
       " 19.597481449525453,\n",
       " 19.597481449525453,\n",
       " 19.597481449525453,\n",
       " 19.597481449525453,\n",
       " 19.597481449525453,\n",
       " 19.597481449525453,\n",
       " 19.597481449525453,\n",
       " 19.597481449525453,\n",
       " 19.597481449525453,\n",
       " 19.597481449525453,\n",
       " 19.597481449525453,\n",
       " 19.597481449525453,\n",
       " 19.597481449525453,\n",
       " 19.597481449525453,\n",
       " 19.597481449525453,\n",
       " 19.597481449525453,\n",
       " 19.597481449525453,\n",
       " 19.597481449525453,\n",
       " 19.597481449525453,\n",
       " 19.597481449525453,\n",
       " 19.597481449525453,\n",
       " 19.597481449525453,\n",
       " 19.597481449525453,\n",
       " 19.597481449525453,\n",
       " 19.597481449525453,\n",
       " 19.597481449525453,\n",
       " 19.597481449525453,\n",
       " 19.597481449525453,\n",
       " 19.597481449525453,\n",
       " 19.597481449525453,\n",
       " 19.597481449525453,\n",
       " 19.597481449525453,\n",
       " 19.597481449525453,\n",
       " 19.597481449525453,\n",
       " 19.597481449525453,\n",
       " 19.597481449525453,\n",
       " 19.597481449525453,\n",
       " 19.597481449525453,\n",
       " 19.597481449525453,\n",
       " 19.597481449525453,\n",
       " 19.597481449525453,\n",
       " 19.597481449525453,\n",
       " 19.597481449525453,\n",
       " 19.597481449525453,\n",
       " 19.597481449525453,\n",
       " 19.597481449525453,\n",
       " 19.597481449525453,\n",
       " 19.597481449525453,\n",
       " 19.597481449525453,\n",
       " 19.597481449525453,\n",
       " 19.597481449525453,\n",
       " 19.597481449525453,\n",
       " 19.597481449525453,\n",
       " 19.597481449525453,\n",
       " 19.597481449525453,\n",
       " 19.597481449525453,\n",
       " 19.597481449525453,\n",
       " 19.597481449525453,\n",
       " 19.597481449525453,\n",
       " 19.597481449525453,\n",
       " 19.597481449525453,\n",
       " 19.597481449525453,\n",
       " 19.597481449525453,\n",
       " 19.597481449525453,\n",
       " 19.597481449525453,\n",
       " 19.597481449525453,\n",
       " 19.597481449525453,\n",
       " 19.597481449525453,\n",
       " 19.597481449525453,\n",
       " 19.597481449525453,\n",
       " 19.597481449525453,\n",
       " 19.597481449525453,\n",
       " 19.597481449525453,\n",
       " 19.597481449525453,\n",
       " 19.597481449525453,\n",
       " 19.597481449525453,\n",
       " 19.597481449525453,\n",
       " 19.597481449525453,\n",
       " 19.597481449525453,\n",
       " 19.597481449525453,\n",
       " 19.597481449525453,\n",
       " 19.597481449525453,\n",
       " 19.597481449525453,\n",
       " 19.597481449525453,\n",
       " 19.597481449525453,\n",
       " 19.597481449525453,\n",
       " 19.597481449525453,\n",
       " 19.597481449525453,\n",
       " 19.597481449525453,\n",
       " 19.597481449525453,\n",
       " 19.597481449525453,\n",
       " 19.597481449525453,\n",
       " 19.597481449525453,\n",
       " 19.597481449525453,\n",
       " 19.597481449525453,\n",
       " 19.597481449525453,\n",
       " 19.597481449525453,\n",
       " 19.597481449525453,\n",
       " 19.597481449525453,\n",
       " 19.597481449525453,\n",
       " 19.597481449525453,\n",
       " 19.597481449525453,\n",
       " 19.597481449525453,\n",
       " 19.597481449525453,\n",
       " 19.597481449525453,\n",
       " 19.597481449525453,\n",
       " 19.597481449525453,\n",
       " 19.597481449525453,\n",
       " 19.597481449525453,\n",
       " 19.597481449525453,\n",
       " 19.597481449525453,\n",
       " 19.597481449525453,\n",
       " 19.597481449525453,\n",
       " 19.597481449525453,\n",
       " 19.597481449525453,\n",
       " 19.597481449525453,\n",
       " 19.597481449525453,\n",
       " 19.597481449525453,\n",
       " 19.597481449525453,\n",
       " 19.597481449525453,\n",
       " 19.597481449525453,\n",
       " 19.597481449525453,\n",
       " 19.597481449525453,\n",
       " 19.597481449525453,\n",
       " 19.597481449525453,\n",
       " 19.597481449525453,\n",
       " 19.597481449525453,\n",
       " 19.597481449525453,\n",
       " 19.597481449525453,\n",
       " 19.597481449525453,\n",
       " 19.597481449525453,\n",
       " 19.597481449525453,\n",
       " 19.597481449525453,\n",
       " 19.597481449525453,\n",
       " 19.597481449525453,\n",
       " 19.597481449525453,\n",
       " 19.597481449525453,\n",
       " 19.597481449525453,\n",
       " 19.597481449525453,\n",
       " 19.597481449525453,\n",
       " 19.597481449525453,\n",
       " 19.597481449525453,\n",
       " 19.597481449525453,\n",
       " 19.597481449525453,\n",
       " 19.597481449525453,\n",
       " 19.597481449525453,\n",
       " 19.597481449525453,\n",
       " 19.597481449525453,\n",
       " 19.597481449525453,\n",
       " 19.597481449525453,\n",
       " 19.597481449525453,\n",
       " 19.597481449525453,\n",
       " 19.597481449525453,\n",
       " 19.597481449525453,\n",
       " 19.597481449525453,\n",
       " 19.597481449525453,\n",
       " 19.597481449525453,\n",
       " 19.597481449525453,\n",
       " 19.597481449525453,\n",
       " 19.597481449525453,\n",
       " 19.597481449525453,\n",
       " 19.597481449525453,\n",
       " 19.597481449525453,\n",
       " 19.597481449525453,\n",
       " 19.597481449525453,\n",
       " 19.597481449525453,\n",
       " 19.597481449525453,\n",
       " 19.597481449525453,\n",
       " 19.597481449525453,\n",
       " 19.597481449525453,\n",
       " 19.597481449525453,\n",
       " 19.597481449525453,\n",
       " 19.597481449525453,\n",
       " 19.597481449525453,\n",
       " 19.597481449525453,\n",
       " 19.597481449525453,\n",
       " 19.597481449525453,\n",
       " 19.597481449525453,\n",
       " 19.597481449525453,\n",
       " 19.597481449525453,\n",
       " 19.597481449525453,\n",
       " 19.597481449525453,\n",
       " 19.597481449525453,\n",
       " 19.597481449525453,\n",
       " 19.597481449525453,\n",
       " 19.597481449525453,\n",
       " 19.597481449525453,\n",
       " 19.597481449525453,\n",
       " 19.597481449525453,\n",
       " 19.597481449525453,\n",
       " 19.597481449525453,\n",
       " 19.597481449525453,\n",
       " 19.597481449525453,\n",
       " 19.597481449525453,\n",
       " 19.597481449525453,\n",
       " 19.597481449525453,\n",
       " 19.597481449525453,\n",
       " 19.597481449525453,\n",
       " 19.597481449525453,\n",
       " 19.597481449525453,\n",
       " 19.597481449525453,\n",
       " 19.597481449525453,\n",
       " 19.597481449525453,\n",
       " 19.597481449525453,\n",
       " 19.597481449525453,\n",
       " 19.597481449525453,\n",
       " 19.597481449525453,\n",
       " 19.597481449525453,\n",
       " 19.597481449525453,\n",
       " 19.597481449525453,\n",
       " 19.597481449525453,\n",
       " 19.597481449525453,\n",
       " 19.597481449525453,\n",
       " 19.597481449525453,\n",
       " 19.597481449525453,\n",
       " 19.597481449525453,\n",
       " 19.597481449525453,\n",
       " 19.597481449525453,\n",
       " 19.597481449525453,\n",
       " 19.597481449525453,\n",
       " 19.597481449525453,\n",
       " 19.597481449525453,\n",
       " 19.597481449525453,\n",
       " 19.597481449525453,\n",
       " 19.597481449525453,\n",
       " 19.597481449525453,\n",
       " 19.597481449525453,\n",
       " 19.597481449525453,\n",
       " 19.597481449525453,\n",
       " 19.597481449525453,\n",
       " 19.597481449525453,\n",
       " 19.597481449525453,\n",
       " 19.597481449525453,\n",
       " 19.597481449525453,\n",
       " 19.597481449525453,\n",
       " 19.597481449525453,\n",
       " 19.597481449525453,\n",
       " 19.597481449525453,\n",
       " 19.597481449525453,\n",
       " 19.597481449525453,\n",
       " 19.597481449525453,\n",
       " 19.597481449525453,\n",
       " 19.597481449525453,\n",
       " 19.597481449525453,\n",
       " 19.597481449525453,\n",
       " 19.597481449525453,\n",
       " 19.597481449525453,\n",
       " 19.597481449525453,\n",
       " 19.597481449525453,\n",
       " 19.597481449525453,\n",
       " 19.597481449525453,\n",
       " 19.597481449525453,\n",
       " 19.597481449525453,\n",
       " 19.597481449525453,\n",
       " 19.597481449525453,\n",
       " 19.597481449525453,\n",
       " 19.597481449525453,\n",
       " 19.597481449525453,\n",
       " 19.597481449525453,\n",
       " 19.597481449525453,\n",
       " 19.597481449525453,\n",
       " 19.597481449525453,\n",
       " 19.597481449525453,\n",
       " 19.597481449525453,\n",
       " 19.597481449525453,\n",
       " 19.597481449525453,\n",
       " 19.597481449525453,\n",
       " 19.597481449525453,\n",
       " 19.597481449525453,\n",
       " 19.597481449525453,\n",
       " 19.597481449525453,\n",
       " 19.597481449525453,\n",
       " 19.597481449525453,\n",
       " 19.597481449525453,\n",
       " 19.597481449525453,\n",
       " 19.597481449525453,\n",
       " 19.597481449525453,\n",
       " 19.597481449525453,\n",
       " 19.597481449525453,\n",
       " 19.597481449525453,\n",
       " 19.597481449525453,\n",
       " 19.597481449525453,\n",
       " 19.597481449525453,\n",
       " 19.597481449525453,\n",
       " 19.597481449525453,\n",
       " 19.597481449525453,\n",
       " 19.597481449525453,\n",
       " 19.597481449525453,\n",
       " 19.597481449525453,\n",
       " 19.597481449525453,\n",
       " 19.597481449525453,\n",
       " 19.597481449525453,\n",
       " 19.597481449525453,\n",
       " 19.597481449525453,\n",
       " 19.597481449525453,\n",
       " 19.597481449525453,\n",
       " 19.597481449525453,\n",
       " 19.597481449525453,\n",
       " 19.597481449525453,\n",
       " 19.597481449525453,\n",
       " 19.597481449525453,\n",
       " 19.597481449525453,\n",
       " 19.597481449525453,\n",
       " 19.597481449525453,\n",
       " 19.597481449525453,\n",
       " 19.597481449525453,\n",
       " 19.597481449525453,\n",
       " 19.597481449525453,\n",
       " 19.597481449525453,\n",
       " 19.597481449525453,\n",
       " 19.597481449525453,\n",
       " 19.597481449525453,\n",
       " 19.597481449525453,\n",
       " 19.597481449525453,\n",
       " 19.597481449525453,\n",
       " 19.597481449525453,\n",
       " 19.597481449525453,\n",
       " 19.597481449525453,\n",
       " 19.597481449525453,\n",
       " 19.597481449525453,\n",
       " 19.597481449525453,\n",
       " 19.597481449525453,\n",
       " 19.597481449525453,\n",
       " 19.597481449525453,\n",
       " 19.597481449525453,\n",
       " 19.597481449525453,\n",
       " 19.597481449525453,\n",
       " 19.597481449525453,\n",
       " 19.597481449525453,\n",
       " 19.597481449525453,\n",
       " 19.597481449525453,\n",
       " 19.597481449525453,\n",
       " 19.597481449525453,\n",
       " 19.597481449525453,\n",
       " 19.597481449525453,\n",
       " 19.597481449525453,\n",
       " 19.597481449525453,\n",
       " 19.597481449525453,\n",
       " 19.597481449525453,\n",
       " 19.597481449525453,\n",
       " 19.597481449525453,\n",
       " 19.597481449525453,\n",
       " 19.597481449525453,\n",
       " 19.597481449525453,\n",
       " 19.597481449525453,\n",
       " 19.597481449525453,\n",
       " 19.597481449525453,\n",
       " 19.597481449525453,\n",
       " 19.597481449525453,\n",
       " 19.597481449525453,\n",
       " 19.597481449525453,\n",
       " 19.597481449525453,\n",
       " 19.597481449525453,\n",
       " 19.597481449525453,\n",
       " 19.597481449525453,\n",
       " 19.597481449525453,\n",
       " 19.597481449525453,\n",
       " 19.597481449525453,\n",
       " 19.597481449525453,\n",
       " 19.597481449525453,\n",
       " 19.597481449525453,\n",
       " 19.597481449525453,\n",
       " 19.597481449525453,\n",
       " 19.597481449525453,\n",
       " 19.597481449525453,\n",
       " 19.597481449525453,\n",
       " 19.597481449525453,\n",
       " 19.597481449525453,\n",
       " 19.597481449525453,\n",
       " 19.597481449525453,\n",
       " 19.597481449525453,\n",
       " 19.597481449525453,\n",
       " 19.597481449525453,\n",
       " 19.597481449525453,\n",
       " 19.597481449525453,\n",
       " 19.597481449525453,\n",
       " 19.597481449525453,\n",
       " 19.597481449525453,\n",
       " 19.597481449525453,\n",
       " 19.597481449525453,\n",
       " 19.597481449525453,\n",
       " 19.597481449525453,\n",
       " 19.597481449525453,\n",
       " 19.597481449525453,\n",
       " 19.597481449525453,\n",
       " 19.597481449525453,\n",
       " 19.597481449525453,\n",
       " 19.597481449525453,\n",
       " 19.597481449525453,\n",
       " 19.597481449525453,\n",
       " 19.597481449525453,\n",
       " 19.597481449525453,\n",
       " 19.597481449525453,\n",
       " 19.597481449525453,\n",
       " 19.597481449525453,\n",
       " 19.597481449525453,\n",
       " 19.597481449525453,\n",
       " 19.597481449525453,\n",
       " 19.597481449525453,\n",
       " 19.597481449525453,\n",
       " 19.597481449525453,\n",
       " 19.597481449525453,\n",
       " 19.597481449525453,\n",
       " 19.597481449525453,\n",
       " 19.597481449525453,\n",
       " 19.597481449525453,\n",
       " 19.597481449525453,\n",
       " 19.597481449525453,\n",
       " 19.597481449525453,\n",
       " 19.597481449525453,\n",
       " 19.597481449525453,\n",
       " 19.597481449525453,\n",
       " 19.597481449525453,\n",
       " 19.597481449525453,\n",
       " 19.597481449525453,\n",
       " 19.597481449525453,\n",
       " 19.597481449525453,\n",
       " 19.597481449525453,\n",
       " 19.597481449525453,\n",
       " 19.597481449525453,\n",
       " 19.597481449525453,\n",
       " 19.597481449525453,\n",
       " 19.597481449525453,\n",
       " 19.597481449525453,\n",
       " 19.597481449525453,\n",
       " 19.597481449525453,\n",
       " 19.597481449525453,\n",
       " 19.597481449525453,\n",
       " 19.597481449525453,\n",
       " 19.597481449525453,\n",
       " 19.597481449525453,\n",
       " 19.597481449525453,\n",
       " 19.597481449525453,\n",
       " 19.597481449525453,\n",
       " 19.597481449525453,\n",
       " 19.597481449525453,\n",
       " 19.597481449525453,\n",
       " 19.597481449525453,\n",
       " 19.597481449525453,\n",
       " 19.597481449525453,\n",
       " 19.597481449525453,\n",
       " 19.597481449525453,\n",
       " 19.597481449525453,\n",
       " 19.597481449525453,\n",
       " 19.597481449525453,\n",
       " 19.597481449525453,\n",
       " 19.597481449525453,\n",
       " 19.597481449525453,\n",
       " 19.597481449525453,\n",
       " 19.597481449525453,\n",
       " 19.597481449525453,\n",
       " 19.597481449525453,\n",
       " 19.597481449525453,\n",
       " 19.597481449525453,\n",
       " 19.597481449525453,\n",
       " 19.597481449525453,\n",
       " 19.597481449525453,\n",
       " 19.597481449525453,\n",
       " 19.597481449525453,\n",
       " 19.597481449525453,\n",
       " 19.597481449525453,\n",
       " 19.597481449525453,\n",
       " 19.597481449525453,\n",
       " 19.597481449525453,\n",
       " 19.597481449525453,\n",
       " 19.597481449525453,\n",
       " 19.597481449525453,\n",
       " 19.597481449525453,\n",
       " 19.597481449525453,\n",
       " 19.597481449525453,\n",
       " 19.597481449525453,\n",
       " 19.597481449525453,\n",
       " 19.597481449525453,\n",
       " 19.597481449525453,\n",
       " 19.597481449525453,\n",
       " 19.597481449525453,\n",
       " 19.597481449525453,\n",
       " 19.597481449525453,\n",
       " 19.597481449525453,\n",
       " 19.597481449525453,\n",
       " 19.597481449525453,\n",
       " 19.597481449525453,\n",
       " 19.597481449525453,\n",
       " 19.597481449525453,\n",
       " 19.597481449525453,\n",
       " 19.597481449525453,\n",
       " 19.597481449525453,\n",
       " 19.597481449525453,\n",
       " 19.597481449525453,\n",
       " 19.597481449525453,\n",
       " 19.597481449525453,\n",
       " 19.597481449525453,\n",
       " 19.597481449525453,\n",
       " 19.597481449525453,\n",
       " 19.597481449525453,\n",
       " 19.597481449525453,\n",
       " 19.597481449525453,\n",
       " 19.597481449525453,\n",
       " 19.597481449525453,\n",
       " 19.597481449525453,\n",
       " 19.597481449525453,\n",
       " 19.597481449525453,\n",
       " 19.597481449525453,\n",
       " 19.597481449525453,\n",
       " 19.597481449525453,\n",
       " 19.597481449525453,\n",
       " 19.597481449525453,\n",
       " 19.597481449525453,\n",
       " 19.597481449525453,\n",
       " 19.597481449525453,\n",
       " 19.597481449525453,\n",
       " 19.597481449525453,\n",
       " 19.597481449525453,\n",
       " 19.597481449525453,\n",
       " 19.597481449525453,\n",
       " 19.597481449525453,\n",
       " 19.597481449525453,\n",
       " 19.597481449525453,\n",
       " 19.597481449525453,\n",
       " 19.597481449525453,\n",
       " 19.597481449525453,\n",
       " 19.597481449525453,\n",
       " 19.597481449525453,\n",
       " 19.597481449525453,\n",
       " 19.597481449525453,\n",
       " 19.597481449525453,\n",
       " 19.597481449525453,\n",
       " 19.597481449525453,\n",
       " 19.597481449525453,\n",
       " 19.597481449525453,\n",
       " 19.597481449525453,\n",
       " 19.597481449525453,\n",
       " 19.597481449525453,\n",
       " 19.597481449525453,\n",
       " 19.597481449525453,\n",
       " 19.597481449525453,\n",
       " 19.597481449525453,\n",
       " 19.597481449525453,\n",
       " 19.597481449525453,\n",
       " 19.597481449525453,\n",
       " 19.597481449525453,\n",
       " 19.597481449525453,\n",
       " 19.597481449525453,\n",
       " 19.597481449525453,\n",
       " 19.597481449525453,\n",
       " 19.597481449525453,\n",
       " 19.597481449525453,\n",
       " 19.597481449525453,\n",
       " 19.597481449525453,\n",
       " 19.597481449525453,\n",
       " 19.597481449525453,\n",
       " 19.597481449525453,\n",
       " 19.597481449525453,\n",
       " 19.597481449525453,\n",
       " 19.597481449525453,\n",
       " 19.597481449525453,\n",
       " 19.597481449525453,\n",
       " 19.597481449525453,\n",
       " 19.597481449525453,\n",
       " 19.597481449525453,\n",
       " 19.597481449525453,\n",
       " 19.597481449525453,\n",
       " 19.597481449525453,\n",
       " 19.597481449525453,\n",
       " 19.597481449525453,\n",
       " 19.597481449525453,\n",
       " 19.597481449525453,\n",
       " 19.597481449525453,\n",
       " 19.597481449525453,\n",
       " 19.597481449525453,\n",
       " 19.597481449525453,\n",
       " 19.597481449525453,\n",
       " 19.597481449525453,\n",
       " 19.597481449525453,\n",
       " 19.597481449525453,\n",
       " 19.597481449525453,\n",
       " 19.597481449525453,\n",
       " 19.597481449525453,\n",
       " 19.597481449525453,\n",
       " 19.597481449525453,\n",
       " 19.597481449525453,\n",
       " 19.597481449525453,\n",
       " 19.597481449525453,\n",
       " 19.597481449525453,\n",
       " 19.597481449525453,\n",
       " 19.597481449525453,\n",
       " 19.597481449525453,\n",
       " 19.597481449525453,\n",
       " 19.597481449525453,\n",
       " ...]"
      ]
     },
     "execution_count": 30,
     "metadata": {},
     "output_type": "execute_result"
    }
   ],
   "source": [
    "y_pred = [twitch_df[\"Total_Earnings\"].mean()] * len(twitch_df[\"Total_Earnings\"])\n",
    "y_pred"
   ]
  },
  {
   "cell_type": "code",
   "execution_count": 31,
   "metadata": {},
   "outputs": [],
   "source": [
    "from sklearn.linear_model import LinearRegression\n",
    "from sklearn.metrics import mean_absolute_error, mean_squared_error, r2_score"
   ]
  },
  {
   "cell_type": "code",
   "execution_count": 32,
   "metadata": {},
   "outputs": [
    {
     "data": {
      "text/plain": [
       "2960.2625199312783"
      ]
     },
     "execution_count": 32,
     "metadata": {},
     "output_type": "execute_result"
    }
   ],
   "source": [
    "mean_squared_error(y_target, y_pred)"
   ]
  },
  {
   "cell_type": "raw",
   "metadata": {},
   "source": [
    "r2 = r2_score(y_target, y_pred)\n",
    "print(r2)"
   ]
  },
  {
   "cell_type": "code",
   "execution_count": 33,
   "metadata": {},
   "outputs": [
    {
     "data": {
      "text/plain": [
       "Index(['Average Viewers', 'Chat Messages', 'Chatters', 'Clip Views',\n",
       "       'Clips Created', 'Follows', 'Hosts and Raids Viewers (%)', 'Live Views',\n",
       "       'Max Viewers', 'Minutes Watched', 'Minutes Streamed', 'Unique Viewers',\n",
       "       'Sub Revenue', 'Prime Revenue', 'Gifted Subs Revenue', 'Bits Revenue',\n",
       "       'Ad Revenue', 'Extensions Revenue', 'Bounties Revenue', 'Prime Subs',\n",
       "       'Total Paid Subs', 'Tier 1 subs', 'Tier 2 subs', 'Tier 3 subs',\n",
       "       'Total Gifted Subs', 'Gifted Tier 1 subs', 'Gifted Tier 2 subs',\n",
       "       'Gifted Tier 3 subs', 'day_of_week_1', 'day_of_week_2', 'day_of_week_3',\n",
       "       'day_of_week_4', 'day_of_week_5', 'day_of_week_6', 'day_of_week_7',\n",
       "       'Total_Sub_Revenue', 'donations', 'Total_Earnings', 'streak',\n",
       "       'activity', 'avg_message_per_viewer', 'user_chatting_percent'],\n",
       "      dtype='object')"
      ]
     },
     "execution_count": 33,
     "metadata": {},
     "output_type": "execute_result"
    }
   ],
   "source": [
    "twitch_df.columns"
   ]
  },
  {
   "cell_type": "code",
   "execution_count": null,
   "metadata": {},
   "outputs": [],
   "source": []
  },
  {
   "cell_type": "markdown",
   "metadata": {},
   "source": [
    "# short list a Feature Matrix\n",
    "short_list = ['Average Viewers', 'Chat Messages', 'Chatters', 'Clip Views',\n",
    "       'Clips Created', 'Follows', 'Hosts and Raids Viewers (%)', 'Live Views',\n",
    "       'Max Viewers', 'Minutes Watched', 'Minutes Streamed', 'Unique Viewers',\n",
    "         'day_of_week_1', 'day_of_week_2', 'day_of_week_3',\n",
    "       'day_of_week_4', 'day_of_week_5', 'day_of_week_6', 'day_of_week_7',\n",
    "        'Total_Earnings', 'streak', 'avg_message_per_viewer',\n",
    "        'activity', 'user_chatting_percent','Total_Earnings']"
   ]
  },
  {
   "cell_type": "code",
   "execution_count": 98,
   "metadata": {},
   "outputs": [],
   "source": [
    "short_list = ['Average Viewers', 'Chat Messages', 'Chatters',\n",
    "              'Follows', 'Hosts and Raids Viewers (%)', 'Live Views',\n",
    "       'Max Viewers', 'Minutes Streamed', 'Unique Viewers',\n",
    "         'day_of_week_1', 'day_of_week_2', 'day_of_week_3',\n",
    "       'day_of_week_4', 'day_of_week_5', 'day_of_week_6', 'day_of_week_7',\n",
    "        'Total_Earnings', 'streak', 'avg_message_per_viewer',\n",
    "        'activity', 'user_chatting_percent']"
   ]
  },
  {
   "cell_type": "code",
   "execution_count": 99,
   "metadata": {},
   "outputs": [],
   "source": [
    "feature_matrix_df = twitch_df[short_list]"
   ]
  },
  {
   "cell_type": "code",
   "execution_count": 100,
   "metadata": {},
   "outputs": [],
   "source": [
    "# Make a function to create Matrix and Target pre validation split\n",
    "def create_Xmatrix_ytarget(training_df):\n",
    "  y_target = training_df[\"Total_Earnings\"]\n",
    "  X_matrix = training_df.drop(\"Total_Earnings\", axis=1)\n",
    "  return (X_matrix, y_target)"
   ]
  },
  {
   "cell_type": "code",
   "execution_count": 101,
   "metadata": {},
   "outputs": [
    {
     "name": "stdout",
     "output_type": "stream",
     "text": [
      "(1159, 20)\n",
      "(1159,)\n"
     ]
    }
   ],
   "source": [
    "X_matrix, y_target = create_Xmatrix_ytarget(feature_matrix_df)\n",
    "print(X_matrix.shape)\n",
    "print(y_target.shape)"
   ]
  },
  {
   "cell_type": "markdown",
   "metadata": {},
   "source": [
    "# Train Val Test split"
   ]
  },
  {
   "cell_type": "code",
   "execution_count": 102,
   "metadata": {},
   "outputs": [],
   "source": [
    "from sklearn.model_selection import train_test_split"
   ]
  },
  {
   "cell_type": "code",
   "execution_count": 103,
   "metadata": {},
   "outputs": [],
   "source": [
    "X_train_temp, X_test, y_train_temp, y_test = train_test_split(\n",
    "    X_matrix, y_target, train_size=0.80, test_size=0.20, random_state=42)"
   ]
  },
  {
   "cell_type": "code",
   "execution_count": 104,
   "metadata": {},
   "outputs": [
    {
     "name": "stdout",
     "output_type": "stream",
     "text": [
      "(927, 20)\n",
      "(927,)\n",
      "(232, 20)\n",
      "(232,)\n"
     ]
    }
   ],
   "source": [
    "print(X_train_temp.shape)\n",
    "print(y_train_temp.shape)\n",
    "print(X_test.shape)\n",
    "print(y_test.shape)"
   ]
  },
  {
   "cell_type": "code",
   "execution_count": 105,
   "metadata": {},
   "outputs": [],
   "source": [
    "X_train, X_val, y_train, y_val = train_test_split(\n",
    "    X_train_temp, y_train_temp, train_size=0.80, test_size=0.20, random_state=42)"
   ]
  },
  {
   "cell_type": "code",
   "execution_count": 106,
   "metadata": {},
   "outputs": [
    {
     "name": "stdout",
     "output_type": "stream",
     "text": [
      "(741, 20)\n",
      "(741,)\n",
      "(186, 20)\n",
      "(186,)\n",
      "(232, 20)\n",
      "(232,)\n"
     ]
    }
   ],
   "source": [
    "print(X_train.shape)\n",
    "print(y_train.shape)\n",
    "print(X_val.shape)\n",
    "print(y_val.shape)\n",
    "print(X_test.shape)\n",
    "print(y_test.shape)"
   ]
  },
  {
   "cell_type": "code",
   "execution_count": null,
   "metadata": {},
   "outputs": [],
   "source": []
  },
  {
   "cell_type": "markdown",
   "metadata": {},
   "source": [
    "# Let's make a pipeline!  (finally...!)"
   ]
  },
  {
   "cell_type": "code",
   "execution_count": 107,
   "metadata": {},
   "outputs": [],
   "source": [
    "from sklearn.linear_model import LinearRegression\n",
    "from sklearn.pipeline import make_pipeline\n",
    "from sklearn.impute import SimpleImputer"
   ]
  },
  {
   "cell_type": "code",
   "execution_count": 108,
   "metadata": {},
   "outputs": [],
   "source": [
    "lr_model = make_pipeline(\n",
    "    LinearRegression()\n",
    ")"
   ]
  },
  {
   "cell_type": "code",
   "execution_count": 109,
   "metadata": {},
   "outputs": [
    {
     "data": {
      "text/plain": [
       "Pipeline(steps=[('linearregression', LinearRegression())])"
      ]
     },
     "execution_count": 109,
     "metadata": {},
     "output_type": "execute_result"
    }
   ],
   "source": [
    "lr_model.fit(X_train, y_train)"
   ]
  },
  {
   "cell_type": "code",
   "execution_count": 110,
   "metadata": {},
   "outputs": [],
   "source": [
    "training_MAE = mean_absolute_error(y_train, lr_model.predict(X_train))"
   ]
  },
  {
   "cell_type": "code",
   "execution_count": 111,
   "metadata": {},
   "outputs": [],
   "source": [
    "validation_MAE = mean_absolute_error(y_val, lr_model.predict(X_val))"
   ]
  },
  {
   "cell_type": "code",
   "execution_count": 112,
   "metadata": {},
   "outputs": [
    {
     "name": "stdout",
     "output_type": "stream",
     "text": [
      "If we estimated Total Earnings at $19.597481449525453,\n",
      "we would be off by $24.54002158371927 on average.\n",
      "Training MAE: 24.641317610808077\n",
      "Validation MAE: 24.260934677942167\n"
     ]
    }
   ],
   "source": [
    "print(f\"If we estimated Total Earnings at ${nbaseline.guess},\")\n",
    "print(f\"we would be off by ${nbaseline.MAE} on average.\")\n",
    "print(f\"Training MAE: {training_MAE}\")\n",
    "print(f\"Validation MAE: {validation_MAE}\")"
   ]
  },
  {
   "cell_type": "code",
   "execution_count": 113,
   "metadata": {},
   "outputs": [],
   "source": [
    "from sklearn.ensemble import RandomForestRegressor"
   ]
  },
  {
   "cell_type": "code",
   "execution_count": 114,
   "metadata": {},
   "outputs": [],
   "source": [
    "rf_bag_model = make_pipeline(\n",
    "    RandomForestRegressor(random_state=42)\n",
    ")"
   ]
  },
  {
   "cell_type": "code",
   "execution_count": 115,
   "metadata": {},
   "outputs": [
    {
     "data": {
      "text/plain": [
       "Pipeline(steps=[('randomforestregressor',\n",
       "                 RandomForestRegressor(random_state=42))])"
      ]
     },
     "execution_count": 115,
     "metadata": {},
     "output_type": "execute_result"
    }
   ],
   "source": [
    "rf_bag_model.fit(X_train, y_train)"
   ]
  },
  {
   "cell_type": "code",
   "execution_count": 116,
   "metadata": {},
   "outputs": [],
   "source": [
    "training_MAE = mean_absolute_error(y_train, rf_bag_model.predict(X_train))"
   ]
  },
  {
   "cell_type": "code",
   "execution_count": 117,
   "metadata": {},
   "outputs": [],
   "source": [
    "validation_MAE = mean_absolute_error(y_val, rf_bag_model.predict(X_val))"
   ]
  },
  {
   "cell_type": "code",
   "execution_count": 118,
   "metadata": {},
   "outputs": [
    {
     "name": "stdout",
     "output_type": "stream",
     "text": [
      "If we estimated Total Earnings at $19.597481449525453,\n",
      "we would be off by $24.54002158371927 on average.\n",
      "Training MAE: 8.851607266387125\n",
      "Validation MAE: 22.210430955645162\n"
     ]
    }
   ],
   "source": [
    "print(f\"If we estimated Total Earnings at ${nbaseline.guess},\")\n",
    "print(f\"we would be off by ${nbaseline.MAE} on average.\")\n",
    "print(f\"Training MAE: {training_MAE}\")\n",
    "print(f\"Validation MAE: {validation_MAE}\")"
   ]
  },
  {
   "cell_type": "markdown",
   "metadata": {},
   "source": [
    "## try the GradientBoostingRegressor"
   ]
  },
  {
   "cell_type": "code",
   "execution_count": 119,
   "metadata": {},
   "outputs": [],
   "source": [
    "from sklearn.ensemble import GradientBoostingRegressor"
   ]
  },
  {
   "cell_type": "code",
   "execution_count": 120,
   "metadata": {},
   "outputs": [
    {
     "data": {
      "text/plain": [
       "Pipeline(steps=[('gradientboostingregressor',\n",
       "                 GradientBoostingRegressor(random_state=42))])"
      ]
     },
     "execution_count": 120,
     "metadata": {},
     "output_type": "execute_result"
    }
   ],
   "source": [
    "rf_boost_model = make_pipeline(\n",
    "    GradientBoostingRegressor(random_state=42)\n",
    ")\n",
    "\n",
    "rf_boost_model.fit(X_train, y_train)"
   ]
  },
  {
   "cell_type": "code",
   "execution_count": null,
   "metadata": {},
   "outputs": [],
   "source": []
  },
  {
   "cell_type": "code",
   "execution_count": 121,
   "metadata": {},
   "outputs": [],
   "source": [
    "training_MAE2 = mean_absolute_error(y_train, rf_boost_model.predict(X_train))"
   ]
  },
  {
   "cell_type": "code",
   "execution_count": 122,
   "metadata": {},
   "outputs": [],
   "source": [
    "validation_MAE2 = mean_absolute_error(y_val, rf_boost_model.predict(X_val))"
   ]
  },
  {
   "cell_type": "code",
   "execution_count": 123,
   "metadata": {},
   "outputs": [
    {
     "name": "stdout",
     "output_type": "stream",
     "text": [
      "If we estimated Total Earnings at $19.597481449525453,\n",
      "we would be off by $24.54002158371927 on average.\n",
      "Training MAE: 9.97344388769161\n",
      "Validation MAE: 20.798083149838465\n"
     ]
    }
   ],
   "source": [
    "print(f\"If we estimated Total Earnings at ${nbaseline.guess},\")\n",
    "print(f\"we would be off by ${nbaseline.MAE} on average.\")\n",
    "print(f\"Training MAE: {training_MAE2}\")\n",
    "print(f\"Validation MAE: {validation_MAE2}\")"
   ]
  },
  {
   "cell_type": "code",
   "execution_count": null,
   "metadata": {},
   "outputs": [],
   "source": []
  },
  {
   "cell_type": "markdown",
   "metadata": {},
   "source": [
    " ### Try XGBoost\n",
    " "
   ]
  },
  {
   "cell_type": "code",
   "execution_count": 124,
   "metadata": {},
   "outputs": [
    {
     "ename": "XGBoostError",
     "evalue": "XGBoost Library (libxgboost.dylib) could not be loaded.\nLikely causes:\n  * OpenMP runtime is not installed (vcomp140.dll or libgomp-1.dll for Windows, libomp.dylib for Mac OSX, libgomp.so for Linux and other UNIX-like OSes). Mac OSX users: Run `brew install libomp` to install OpenMP runtime.\n  * You are running 32-bit Python on a 64-bit OS\nError message(s): ['dlopen(/Users/kellycho/.local/share/virtualenvs/DS-Unit-2-Applied-Modeling-0wMfy1BX/lib/python3.8/site-packages/xgboost/lib/libxgboost.dylib, 6): Library not loaded: /usr/local/opt/libomp/lib/libomp.dylib\\n  Referenced from: /Users/kellycho/.local/share/virtualenvs/DS-Unit-2-Applied-Modeling-0wMfy1BX/lib/python3.8/site-packages/xgboost/lib/libxgboost.dylib\\n  Reason: image not found']\n",
     "output_type": "error",
     "traceback": [
      "\u001b[0;31m---------------------------------------------------------------------------\u001b[0m",
      "\u001b[0;31mXGBoostError\u001b[0m                              Traceback (most recent call last)",
      "\u001b[0;32m<ipython-input-124-2c02f0670723>\u001b[0m in \u001b[0;36m<module>\u001b[0;34m\u001b[0m\n\u001b[0;32m----> 1\u001b[0;31m \u001b[0;32mfrom\u001b[0m \u001b[0mxgboost\u001b[0m \u001b[0;32mimport\u001b[0m \u001b[0mXGBRegressor\u001b[0m\u001b[0;34m\u001b[0m\u001b[0;34m\u001b[0m\u001b[0m\n\u001b[0m",
      "\u001b[0;32m~/.local/share/virtualenvs/DS-Unit-2-Applied-Modeling-0wMfy1BX/lib/python3.8/site-packages/xgboost/__init__.py\u001b[0m in \u001b[0;36m<module>\u001b[0;34m\u001b[0m\n\u001b[1;32m      9\u001b[0m \u001b[0;32mimport\u001b[0m \u001b[0mwarnings\u001b[0m\u001b[0;34m\u001b[0m\u001b[0;34m\u001b[0m\u001b[0m\n\u001b[1;32m     10\u001b[0m \u001b[0;34m\u001b[0m\u001b[0m\n\u001b[0;32m---> 11\u001b[0;31m \u001b[0;32mfrom\u001b[0m \u001b[0;34m.\u001b[0m\u001b[0mcore\u001b[0m \u001b[0;32mimport\u001b[0m \u001b[0mDMatrix\u001b[0m\u001b[0;34m,\u001b[0m \u001b[0mDeviceQuantileDMatrix\u001b[0m\u001b[0;34m,\u001b[0m \u001b[0mBooster\u001b[0m\u001b[0;34m\u001b[0m\u001b[0;34m\u001b[0m\u001b[0m\n\u001b[0m\u001b[1;32m     12\u001b[0m \u001b[0;32mfrom\u001b[0m \u001b[0;34m.\u001b[0m\u001b[0mtraining\u001b[0m \u001b[0;32mimport\u001b[0m \u001b[0mtrain\u001b[0m\u001b[0;34m,\u001b[0m \u001b[0mcv\u001b[0m\u001b[0;34m\u001b[0m\u001b[0;34m\u001b[0m\u001b[0m\n\u001b[1;32m     13\u001b[0m \u001b[0;32mfrom\u001b[0m \u001b[0;34m.\u001b[0m \u001b[0;32mimport\u001b[0m \u001b[0mrabit\u001b[0m  \u001b[0;31m# noqa\u001b[0m\u001b[0;34m\u001b[0m\u001b[0;34m\u001b[0m\u001b[0m\n",
      "\u001b[0;32m~/.local/share/virtualenvs/DS-Unit-2-Applied-Modeling-0wMfy1BX/lib/python3.8/site-packages/xgboost/core.py\u001b[0m in \u001b[0;36m<module>\u001b[0;34m\u001b[0m\n\u001b[1;32m    173\u001b[0m \u001b[0;34m\u001b[0m\u001b[0m\n\u001b[1;32m    174\u001b[0m \u001b[0;31m# load the XGBoost library globally\u001b[0m\u001b[0;34m\u001b[0m\u001b[0;34m\u001b[0m\u001b[0;34m\u001b[0m\u001b[0m\n\u001b[0;32m--> 175\u001b[0;31m \u001b[0m_LIB\u001b[0m \u001b[0;34m=\u001b[0m \u001b[0m_load_lib\u001b[0m\u001b[0;34m(\u001b[0m\u001b[0;34m)\u001b[0m\u001b[0;34m\u001b[0m\u001b[0;34m\u001b[0m\u001b[0m\n\u001b[0m\u001b[1;32m    176\u001b[0m \u001b[0;34m\u001b[0m\u001b[0m\n\u001b[1;32m    177\u001b[0m \u001b[0;34m\u001b[0m\u001b[0m\n",
      "\u001b[0;32m~/.local/share/virtualenvs/DS-Unit-2-Applied-Modeling-0wMfy1BX/lib/python3.8/site-packages/xgboost/core.py\u001b[0m in \u001b[0;36m_load_lib\u001b[0;34m()\u001b[0m\n\u001b[1;32m    156\u001b[0m     \u001b[0;32mif\u001b[0m \u001b[0;32mnot\u001b[0m \u001b[0mlib_success\u001b[0m\u001b[0;34m:\u001b[0m\u001b[0;34m\u001b[0m\u001b[0;34m\u001b[0m\u001b[0m\n\u001b[1;32m    157\u001b[0m         \u001b[0mlibname\u001b[0m \u001b[0;34m=\u001b[0m \u001b[0mos\u001b[0m\u001b[0;34m.\u001b[0m\u001b[0mpath\u001b[0m\u001b[0;34m.\u001b[0m\u001b[0mbasename\u001b[0m\u001b[0;34m(\u001b[0m\u001b[0mlib_paths\u001b[0m\u001b[0;34m[\u001b[0m\u001b[0;36m0\u001b[0m\u001b[0;34m]\u001b[0m\u001b[0;34m)\u001b[0m\u001b[0;34m\u001b[0m\u001b[0;34m\u001b[0m\u001b[0m\n\u001b[0;32m--> 158\u001b[0;31m         raise XGBoostError(\n\u001b[0m\u001b[1;32m    159\u001b[0m             \u001b[0;34m'XGBoost Library ({}) could not be loaded.\\n'\u001b[0m\u001b[0;34m.\u001b[0m\u001b[0mformat\u001b[0m\u001b[0;34m(\u001b[0m\u001b[0mlibname\u001b[0m\u001b[0;34m)\u001b[0m \u001b[0;34m+\u001b[0m\u001b[0;34m\u001b[0m\u001b[0;34m\u001b[0m\u001b[0m\n\u001b[1;32m    160\u001b[0m             \u001b[0;34m'Likely causes:\\n'\u001b[0m \u001b[0;34m+\u001b[0m\u001b[0;34m\u001b[0m\u001b[0;34m\u001b[0m\u001b[0m\n",
      "\u001b[0;31mXGBoostError\u001b[0m: XGBoost Library (libxgboost.dylib) could not be loaded.\nLikely causes:\n  * OpenMP runtime is not installed (vcomp140.dll or libgomp-1.dll for Windows, libomp.dylib for Mac OSX, libgomp.so for Linux and other UNIX-like OSes). Mac OSX users: Run `brew install libomp` to install OpenMP runtime.\n  * You are running 32-bit Python on a 64-bit OS\nError message(s): ['dlopen(/Users/kellycho/.local/share/virtualenvs/DS-Unit-2-Applied-Modeling-0wMfy1BX/lib/python3.8/site-packages/xgboost/lib/libxgboost.dylib, 6): Library not loaded: /usr/local/opt/libomp/lib/libomp.dylib\\n  Referenced from: /Users/kellycho/.local/share/virtualenvs/DS-Unit-2-Applied-Modeling-0wMfy1BX/lib/python3.8/site-packages/xgboost/lib/libxgboost.dylib\\n  Reason: image not found']\n"
     ]
    }
   ],
   "source": [
    "\n",
    "from xgboost import XGBRegressor"
   ]
  },
  {
   "cell_type": "code",
   "execution_count": 125,
   "metadata": {},
   "outputs": [
    {
     "ename": "NameError",
     "evalue": "name 'xgboost' is not defined",
     "output_type": "error",
     "traceback": [
      "\u001b[0;31m---------------------------------------------------------------------------\u001b[0m",
      "\u001b[0;31mNameError\u001b[0m                                 Traceback (most recent call last)",
      "\u001b[0;32m<ipython-input-125-f98b4f8cc587>\u001b[0m in \u001b[0;36m<module>\u001b[0;34m\u001b[0m\n\u001b[1;32m      1\u001b[0m xgb_model = make_pipeline(\n\u001b[0;32m----> 2\u001b[0;31m     \u001b[0mxgboost\u001b[0m\u001b[0;34m.\u001b[0m\u001b[0mXGBRegressor\u001b[0m\u001b[0;34m(\u001b[0m\u001b[0;34m)\u001b[0m\u001b[0;34m\u001b[0m\u001b[0;34m\u001b[0m\u001b[0m\n\u001b[0m\u001b[1;32m      3\u001b[0m )\n",
      "\u001b[0;31mNameError\u001b[0m: name 'xgboost' is not defined"
     ]
    }
   ],
   "source": [
    "xgb_model = make_pipeline(\n",
    "    xgboost.XGBRegressor()\n",
    ")"
   ]
  },
  {
   "cell_type": "markdown",
   "metadata": {},
   "source": [
    "## Feature Importances"
   ]
  },
  {
   "cell_type": "code",
   "execution_count": 126,
   "metadata": {},
   "outputs": [],
   "source": [
    "# rf_bag_model = make_pipeline(\n",
    "#     RandomForestRegressor(random_state=42)\n",
    "# )"
   ]
  },
  {
   "cell_type": "code",
   "execution_count": 127,
   "metadata": {},
   "outputs": [],
   "source": [
    "# rf_bag_model.fit(X_train, y_train)"
   ]
  },
  {
   "cell_type": "code",
   "execution_count": 128,
   "metadata": {},
   "outputs": [],
   "source": [
    "fi= rf_bag_model.named_steps[\"randomforestregressor\"].feature_importances_"
   ]
  },
  {
   "cell_type": "code",
   "execution_count": 129,
   "metadata": {},
   "outputs": [
    {
     "data": {
      "text/plain": [
       "Chatters                       0.284613\n",
       "Average Viewers                0.134604\n",
       "Chat Messages                  0.066197\n",
       "avg_message_per_viewer         0.061269\n",
       "Max Viewers                    0.058684\n",
       "activity                       0.056622\n",
       "user_chatting_percent          0.050723\n",
       "Live Views                     0.048748\n",
       "Hosts and Raids Viewers (%)    0.044077\n",
       "Minutes Streamed               0.040282\n",
       "Follows                        0.039403\n",
       "streak                         0.038362\n",
       "Unique Viewers                 0.035631\n",
       "day_of_week_1                  0.012481\n",
       "day_of_week_6                  0.009447\n",
       "day_of_week_3                  0.007905\n",
       "day_of_week_2                  0.005927\n",
       "day_of_week_5                  0.001794\n",
       "day_of_week_7                  0.001760\n",
       "day_of_week_4                  0.001468\n",
       "dtype: float64"
      ]
     },
     "execution_count": 129,
     "metadata": {},
     "output_type": "execute_result"
    }
   ],
   "source": [
    "importances = pd.Series(fi, X_train.columns).sort_values(ascending=False)\n",
    "importances"
   ]
  },
  {
   "cell_type": "code",
   "execution_count": 130,
   "metadata": {},
   "outputs": [
    {
     "data": {
      "text/plain": [
       "<AxesSubplot:>"
      ]
     },
     "execution_count": 130,
     "metadata": {},
     "output_type": "execute_result"
    },
    {
     "data": {
      "image/png": "[encoded data removed]",
      "text/plain": [
       "<Figure size 432x288 with 1 Axes>"
      ]
     },
     "metadata": {
      "needs_background": "light"
     },
     "output_type": "display_data"
    }
   ],
   "source": [
    "importances.head(16).plot(kind=\"barh\")"
   ]
  },
  {
   "cell_type": "markdown",
   "metadata": {},
   "source": [
    "## Drop Column"
   ]
  },
  {
   "cell_type": "code",
   "execution_count": null,
   "metadata": {},
   "outputs": [],
   "source": []
  },
  {
   "cell_type": "markdown",
   "metadata": {},
   "source": [
    "### Permutation IMportance\n",
    "train model on full dataset\n",
    "Choose a column an shuffle rows\n",
    "See how the validation metrics change"
   ]
  },
  {
   "cell_type": "code",
   "execution_count": 131,
   "metadata": {},
   "outputs": [
    {
     "data": {
      "text/plain": [
       "Date\n",
       "2019-05-15    0.500000\n",
       "2018-12-09    0.633333\n",
       "2018-07-31    1.000000\n",
       "2017-07-30    0.966667\n",
       "2020-06-20    0.533333\n",
       "2019-07-29    0.566667\n",
       "2018-10-09    1.000000\n",
       "2019-08-12    0.533333\n",
       "2019-01-23    0.766667\n",
       "2017-11-08    1.000000\n",
       "Name: activity, dtype: float64"
      ]
     },
     "execution_count": 131,
     "metadata": {},
     "output_type": "execute_result"
    }
   ],
   "source": [
    "X_val[\"activity\"].head(10)"
   ]
  },
  {
   "cell_type": "code",
   "execution_count": 132,
   "metadata": {},
   "outputs": [],
   "source": [
    "X_val_permuted = X_val.copy()"
   ]
  },
  {
   "cell_type": "code",
   "execution_count": 133,
   "metadata": {},
   "outputs": [
    {
     "data": {
      "text/plain": [
       "array([0.5       , 0.56666667, 0.56666667, 0.43333333, 0.83333333,\n",
       "       0.53333333, 0.96666667, 0.96666667, 0.33333333, 0.96666667])"
      ]
     },
     "execution_count": 133,
     "metadata": {},
     "output_type": "execute_result"
    }
   ],
   "source": [
    "np.random.permutation(X_val[\"activity\"])[:10]"
   ]
  },
  {
   "cell_type": "code",
   "execution_count": 134,
   "metadata": {},
   "outputs": [],
   "source": [
    "X_val_permuted[\"activity\"] = np.random.permutation(X_val_permuted[\"activity\"])"
   ]
  },
  {
   "cell_type": "code",
   "execution_count": 135,
   "metadata": {},
   "outputs": [
    {
     "data": {
      "text/plain": [
       "Date\n",
       "2019-05-15    0.200000\n",
       "2018-12-09    0.933333\n",
       "2018-07-31    0.500000\n",
       "2017-07-30    0.400000\n",
       "2020-06-20    1.000000\n",
       "2019-07-29    0.300000\n",
       "2018-10-09    0.500000\n",
       "2019-08-12    0.800000\n",
       "2019-01-23    0.966667\n",
       "2017-11-08    0.500000\n",
       "Name: activity, dtype: float64"
      ]
     },
     "execution_count": 135,
     "metadata": {},
     "output_type": "execute_result"
    }
   ],
   "source": [
    "X_val_permuted[\"activity\"].head(10)"
   ]
  },
  {
   "cell_type": "code",
   "execution_count": 136,
   "metadata": {},
   "outputs": [
    {
     "data": {
      "text/plain": [
       "0.966667    24\n",
       "1.000000    21\n",
       "0.500000    20\n",
       "0.533333    18\n",
       "0.933333    16\n",
       "0.466667    14\n",
       "0.900000    10\n",
       "0.633333     8\n",
       "0.800000     8\n",
       "0.566667     8\n",
       "0.733333     5\n",
       "0.833333     4\n",
       "0.600000     4\n",
       "0.433333     4\n",
       "0.300000     4\n",
       "0.866667     4\n",
       "0.666667     4\n",
       "0.766667     4\n",
       "0.400000     2\n",
       "0.200000     1\n",
       "0.266667     1\n",
       "0.033333     1\n",
       "0.333333     1\n",
       "Name: activity, dtype: int64"
      ]
     },
     "execution_count": 136,
     "metadata": {},
     "output_type": "execute_result"
    }
   ],
   "source": [
    "X_val_permuted[\"activity\"].value_counts()"
   ]
  },
  {
   "cell_type": "code",
   "execution_count": 137,
   "metadata": {},
   "outputs": [
    {
     "data": {
      "text/plain": [
       "0.966667    24\n",
       "1.000000    21\n",
       "0.500000    20\n",
       "0.533333    18\n",
       "0.933333    16\n",
       "0.466667    14\n",
       "0.900000    10\n",
       "0.633333     8\n",
       "0.800000     8\n",
       "0.566667     8\n",
       "0.733333     5\n",
       "0.833333     4\n",
       "0.300000     4\n",
       "0.433333     4\n",
       "0.600000     4\n",
       "0.866667     4\n",
       "0.766667     4\n",
       "0.666667     4\n",
       "0.400000     2\n",
       "0.200000     1\n",
       "0.033333     1\n",
       "0.266667     1\n",
       "0.333333     1\n",
       "Name: activity, dtype: int64"
      ]
     },
     "execution_count": 137,
     "metadata": {},
     "output_type": "execute_result"
    }
   ],
   "source": [
    "X_val[\"activity\"].value_counts()"
   ]
  },
  {
   "cell_type": "code",
   "execution_count": 138,
   "metadata": {},
   "outputs": [
    {
     "data": {
      "text/plain": [
       "Pipeline(steps=[('gradientboostingregressor',\n",
       "                 GradientBoostingRegressor(random_state=42))])"
      ]
     },
     "execution_count": 138,
     "metadata": {},
     "output_type": "execute_result"
    }
   ],
   "source": [
    "rf_boost_model2 = make_pipeline(\n",
    "    GradientBoostingRegressor(random_state=42)\n",
    ")\n",
    "\n",
    "rf_boost_model2.fit(X_train, y_train)"
   ]
  },
  {
   "cell_type": "code",
   "execution_count": 139,
   "metadata": {},
   "outputs": [],
   "source": [
    "validation_MAE2 = mean_absolute_error(y_val, rf_boost_model2.predict(X_val))"
   ]
  },
  {
   "cell_type": "code",
   "execution_count": 140,
   "metadata": {},
   "outputs": [],
   "source": [
    "validation_MAE3 = mean_absolute_error(y_val, rf_boost_model2.predict(X_val_permuted))"
   ]
  },
  {
   "cell_type": "code",
   "execution_count": 141,
   "metadata": {},
   "outputs": [],
   "source": [
    "training_MAE2 = mean_absolute_error(y_train, rf_boost_model2.predict(X_train))"
   ]
  },
  {
   "cell_type": "code",
   "execution_count": 142,
   "metadata": {},
   "outputs": [
    {
     "name": "stdout",
     "output_type": "stream",
     "text": [
      "If we estimated Total Earnings at $19.597481449525453,\n",
      "we would be off by $24.54002158371927 on average.\n",
      "Training MAE: 9.97344388769161\n",
      "Validation MAE: 20.798083149838465\n",
      "Validation MAE Permuted: 21.283399376194915\n"
     ]
    }
   ],
   "source": [
    "print(f\"If we estimated Total Earnings at ${nbaseline.guess},\")\n",
    "print(f\"we would be off by ${nbaseline.MAE} on average.\")\n",
    "print(f\"Training MAE: {training_MAE2}\")\n",
    "print(f\"Validation MAE: {validation_MAE2}\")\n",
    "print(f\"Validation MAE Permuted: {validation_MAE3}\")"
   ]
  },
  {
   "cell_type": "markdown",
   "metadata": {},
   "source": [
    "### Automate it. "
   ]
  },
  {
   "cell_type": "code",
   "execution_count": 143,
   "metadata": {},
   "outputs": [],
   "source": [
    "from sklearn.inspection import permutation_importance"
   ]
  },
  {
   "cell_type": "code",
   "execution_count": 144,
   "metadata": {},
   "outputs": [],
   "source": [
    "pi = permutation_importance(rf_boost_model2, X_val, y_val)"
   ]
  },
  {
   "cell_type": "code",
   "execution_count": 145,
   "metadata": {},
   "outputs": [
    {
     "data": {
      "text/plain": [
       "sklearn.utils.Bunch"
      ]
     },
     "execution_count": 145,
     "metadata": {},
     "output_type": "execute_result"
    }
   ],
   "source": [
    "type(pi)"
   ]
  },
  {
   "cell_type": "code",
   "execution_count": 146,
   "metadata": {},
   "outputs": [
    {
     "data": {
      "text/plain": [
       "{'importances_mean': array([ 0.02909133,  0.04769683,  0.10221114,  0.00340904,  0.00076057,\n",
       "         0.07406863,  0.11421279,  0.00654614,  0.02586457,  0.        ,\n",
       "        -0.00136669,  0.01066555,  0.00412041, -0.00017723,  0.        ,\n",
       "        -0.00088598,  0.00465069, -0.01186413, -0.03094918, -0.02760377]),\n",
       " 'importances_std': array([0.02028103, 0.02541685, 0.02577063, 0.00764786, 0.00607945,\n",
       "        0.01606054, 0.02967424, 0.0100771 , 0.00687471, 0.        ,\n",
       "        0.00085387, 0.00454027, 0.0041479 , 0.00015973, 0.        ,\n",
       "        0.00022344, 0.0086665 , 0.02591842, 0.02237717, 0.03104348]),\n",
       " 'importances': array([[ 2.61051946e-02,  3.26358711e-02,  1.24504617e-02,\n",
       "          6.56709556e-02,  8.59417358e-03],\n",
       "        [ 5.62742268e-02,  3.82289787e-02,  7.26328802e-02,\n",
       "          2.84138430e-03,  6.85067024e-02],\n",
       "        [ 9.71629629e-02,  1.49546776e-01,  1.02670393e-01,\n",
       "          8.92231329e-02,  7.24524457e-02],\n",
       "        [-1.21850541e-03,  1.66475193e-02,  7.34694570e-03,\n",
       "         -1.98975756e-03, -3.74100558e-03],\n",
       "        [-1.91865009e-03, -6.18295780e-03, -1.58641541e-03,\n",
       "          1.18572782e-02,  1.63361197e-03],\n",
       "        [ 8.53287887e-02,  5.45454791e-02,  5.59467956e-02,\n",
       "          9.45163451e-02,  8.00057621e-02],\n",
       "        [ 1.28068733e-01,  1.30370855e-01,  1.36795231e-01,\n",
       "          5.58476691e-02,  1.19981468e-01],\n",
       "        [-1.51002004e-03, -5.04573253e-03,  2.39379255e-02,\n",
       "          8.98701250e-03,  6.36149404e-03],\n",
       "        [ 3.22669914e-02,  2.90617753e-02,  1.25202477e-02,\n",
       "          2.76572117e-02,  2.78166363e-02],\n",
       "        [ 0.00000000e+00,  0.00000000e+00,  0.00000000e+00,\n",
       "          0.00000000e+00,  0.00000000e+00],\n",
       "        [-3.94869013e-04, -9.71188076e-04, -2.78859004e-03,\n",
       "         -1.84995362e-03, -8.28842110e-04],\n",
       "        [ 1.12700120e-02,  2.04786948e-03,  1.12901741e-02,\n",
       "          1.49741432e-02,  1.37455486e-02],\n",
       "        [ 1.17798485e-02,  5.11992484e-03,  1.66064402e-03,\n",
       "          2.81211927e-04,  1.76043927e-03],\n",
       "        [-2.35937060e-04, -2.16087109e-04,  1.34000010e-04,\n",
       "         -3.22329242e-04, -2.45775104e-04],\n",
       "        [ 0.00000000e+00,  0.00000000e+00,  0.00000000e+00,\n",
       "          0.00000000e+00,  0.00000000e+00],\n",
       "        [-1.06077846e-03, -1.15885645e-03, -5.10559608e-04,\n",
       "         -8.72799255e-04, -8.26907787e-04],\n",
       "        [ 1.84018416e-02, -2.09295540e-03, -6.03332449e-04,\n",
       "          1.12515099e-02, -3.70360166e-03],\n",
       "        [-2.95873990e-02, -4.19297936e-02,  1.78212982e-02,\n",
       "         -2.62182496e-02,  2.05935122e-02],\n",
       "        [-4.70581208e-02, -4.51346139e-02,  3.81068641e-03,\n",
       "         -5.34888861e-02, -1.28749425e-02],\n",
       "        [-7.71343317e-02,  3.76309825e-03, -1.00146773e-02,\n",
       "         -5.04659000e-02, -4.16706208e-03]])}"
      ]
     },
     "execution_count": 146,
     "metadata": {},
     "output_type": "execute_result"
    }
   ],
   "source": [
    "pi"
   ]
  },
  {
   "cell_type": "code",
   "execution_count": null,
   "metadata": {},
   "outputs": [],
   "source": []
  },
  {
   "cell_type": "code",
   "execution_count": 147,
   "metadata": {},
   "outputs": [],
   "source": [
    "pi_df = pd.DataFrame({\"importances_mean\": np.round(pi[\"importances_mean\"], 4),\n",
    "                     \"importances_std\": pi[\"importances_std\"]},\n",
    "                    index=X_val.columns)"
   ]
  },
  {
   "cell_type": "code",
   "execution_count": 148,
   "metadata": {},
   "outputs": [
    {
     "data": {
      "text/html": [
       "<div>\n",
       "<style scoped>\n",
       "    .dataframe tbody tr th:only-of-type {\n",
       "        vertical-align: middle;\n",
       "    }\n",
       "\n",
       "    .dataframe tbody tr th {\n",
       "        vertical-align: top;\n",
       "    }\n",
       "\n",
       "    .dataframe thead th {\n",
       "        text-align: right;\n",
       "    }\n",
       "</style>\n",
       "<table border=\"1\" class=\"dataframe\">\n",
       "  <thead>\n",
       "    <tr style=\"text-align: right;\">\n",
       "      <th></th>\n",
       "      <th>importances_mean</th>\n",
       "      <th>importances_std</th>\n",
       "    </tr>\n",
       "  </thead>\n",
       "  <tbody>\n",
       "    <tr>\n",
       "      <th>Max Viewers</th>\n",
       "      <td>0.1142</td>\n",
       "      <td>0.029674</td>\n",
       "    </tr>\n",
       "    <tr>\n",
       "      <th>Chatters</th>\n",
       "      <td>0.1022</td>\n",
       "      <td>0.025771</td>\n",
       "    </tr>\n",
       "    <tr>\n",
       "      <th>Live Views</th>\n",
       "      <td>0.0741</td>\n",
       "      <td>0.016061</td>\n",
       "    </tr>\n",
       "    <tr>\n",
       "      <th>Chat Messages</th>\n",
       "      <td>0.0477</td>\n",
       "      <td>0.025417</td>\n",
       "    </tr>\n",
       "    <tr>\n",
       "      <th>Average Viewers</th>\n",
       "      <td>0.0291</td>\n",
       "      <td>0.020281</td>\n",
       "    </tr>\n",
       "    <tr>\n",
       "      <th>Unique Viewers</th>\n",
       "      <td>0.0259</td>\n",
       "      <td>0.006875</td>\n",
       "    </tr>\n",
       "    <tr>\n",
       "      <th>day_of_week_3</th>\n",
       "      <td>0.0107</td>\n",
       "      <td>0.004540</td>\n",
       "    </tr>\n",
       "    <tr>\n",
       "      <th>Minutes Streamed</th>\n",
       "      <td>0.0065</td>\n",
       "      <td>0.010077</td>\n",
       "    </tr>\n",
       "    <tr>\n",
       "      <th>streak</th>\n",
       "      <td>0.0047</td>\n",
       "      <td>0.008666</td>\n",
       "    </tr>\n",
       "    <tr>\n",
       "      <th>day_of_week_4</th>\n",
       "      <td>0.0041</td>\n",
       "      <td>0.004148</td>\n",
       "    </tr>\n",
       "    <tr>\n",
       "      <th>Follows</th>\n",
       "      <td>0.0034</td>\n",
       "      <td>0.007648</td>\n",
       "    </tr>\n",
       "    <tr>\n",
       "      <th>Hosts and Raids Viewers (%)</th>\n",
       "      <td>0.0008</td>\n",
       "      <td>0.006079</td>\n",
       "    </tr>\n",
       "    <tr>\n",
       "      <th>day_of_week_1</th>\n",
       "      <td>0.0000</td>\n",
       "      <td>0.000000</td>\n",
       "    </tr>\n",
       "    <tr>\n",
       "      <th>day_of_week_6</th>\n",
       "      <td>0.0000</td>\n",
       "      <td>0.000000</td>\n",
       "    </tr>\n",
       "    <tr>\n",
       "      <th>day_of_week_5</th>\n",
       "      <td>-0.0002</td>\n",
       "      <td>0.000160</td>\n",
       "    </tr>\n",
       "    <tr>\n",
       "      <th>day_of_week_7</th>\n",
       "      <td>-0.0009</td>\n",
       "      <td>0.000223</td>\n",
       "    </tr>\n",
       "    <tr>\n",
       "      <th>day_of_week_2</th>\n",
       "      <td>-0.0014</td>\n",
       "      <td>0.000854</td>\n",
       "    </tr>\n",
       "    <tr>\n",
       "      <th>avg_message_per_viewer</th>\n",
       "      <td>-0.0119</td>\n",
       "      <td>0.025918</td>\n",
       "    </tr>\n",
       "    <tr>\n",
       "      <th>user_chatting_percent</th>\n",
       "      <td>-0.0276</td>\n",
       "      <td>0.031043</td>\n",
       "    </tr>\n",
       "    <tr>\n",
       "      <th>activity</th>\n",
       "      <td>-0.0309</td>\n",
       "      <td>0.022377</td>\n",
       "    </tr>\n",
       "  </tbody>\n",
       "</table>\n",
       "</div>"
      ],
      "text/plain": [
       "                             importances_mean  importances_std\n",
       "Max Viewers                            0.1142         0.029674\n",
       "Chatters                               0.1022         0.025771\n",
       "Live Views                             0.0741         0.016061\n",
       "Chat Messages                          0.0477         0.025417\n",
       "Average Viewers                        0.0291         0.020281\n",
       "Unique Viewers                         0.0259         0.006875\n",
       "day_of_week_3                          0.0107         0.004540\n",
       "Minutes Streamed                       0.0065         0.010077\n",
       "streak                                 0.0047         0.008666\n",
       "day_of_week_4                          0.0041         0.004148\n",
       "Follows                                0.0034         0.007648\n",
       "Hosts and Raids Viewers (%)            0.0008         0.006079\n",
       "day_of_week_1                          0.0000         0.000000\n",
       "day_of_week_6                          0.0000         0.000000\n",
       "day_of_week_5                         -0.0002         0.000160\n",
       "day_of_week_7                         -0.0009         0.000223\n",
       "day_of_week_2                         -0.0014         0.000854\n",
       "avg_message_per_viewer                -0.0119         0.025918\n",
       "user_chatting_percent                 -0.0276         0.031043\n",
       "activity                              -0.0309         0.022377"
      ]
     },
     "execution_count": 148,
     "metadata": {},
     "output_type": "execute_result"
    }
   ],
   "source": [
    "pi_df.sort_values(by=\"importances_mean\", ascending=False)"
   ]
  },
  {
   "cell_type": "code",
   "execution_count": null,
   "metadata": {},
   "outputs": [],
   "source": []
  },
  {
   "cell_type": "code",
   "execution_count": null,
   "metadata": {},
   "outputs": [],
   "source": []
  },
  {
   "cell_type": "code",
   "execution_count": null,
   "metadata": {},
   "outputs": [],
   "source": []
  }
 ],
 "metadata": {
  "kernelspec": {
   "display_name": "Python 3",
   "language": "python",
   "name": "python3"
  },
  "language_info": {
   "codemirror_mode": {
    "name": "ipython",
    "version": 3
   },
   "file_extension": ".py",
   "mimetype": "text/x-python",
   "name": "python",
   "nbconvert_exporter": "python",
   "pygments_lexer": "ipython3",
   "version": "3.8.3"
  }
 },
 "nbformat": 4,
 "nbformat_minor": 4
}
